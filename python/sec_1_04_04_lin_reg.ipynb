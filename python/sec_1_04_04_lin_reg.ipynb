{
 "cells": [
  {
   "cell_type": "markdown",
   "metadata": {},
   "source": [
    "#### Section 1.4.4 Linear Regulator\n",
    "Taken from \"Switch-Mode Power Supplies\" by Christophe P. Basso"
   ]
  },
  {
   "cell_type": "markdown",
   "metadata": {},
   "source": [
    "#### Imports"
   ]
  },
  {
   "cell_type": "code",
   "execution_count": 1,
   "metadata": {},
   "outputs": [],
   "source": [
    "from pathlib import Path\n",
    "import py4spice as spi\n",
    "import copy"
   ]
  },
  {
   "cell_type": "markdown",
   "metadata": {},
   "source": [
    "#### Path to Ngspice and the project\n",
    "***IMPORTANT:*** These variables must be filled in by the user.\\\n",
    "The notebook calculates the rest of the paths from these."
   ]
  },
  {
   "cell_type": "code",
   "execution_count": 2,
   "metadata": {},
   "outputs": [],
   "source": [
    "# Path to NGSPICE\n",
    "NGSPICE_EXE = Path(\"/usr/bin/ngspice\")\n",
    "\n",
    "# Path to KiCad\n",
    "KICAD_EXE = Path(\"/usr/bin/kicad\")\n",
    "## add to devcontainer: sudo apt install kicad kicad-libraries &&\n",
    "\n",
    "# Absolute path to my project\n",
    "PROJ_PATH = Path(\"/workspaces/sw_pwr_book_sim/circuits/sec_1_04_04_lin_reg\")\n",
    "\n",
    "# Name of dut (device under test) schematic\n",
    "DUT_SCHEMATIC_NAME = \"sec_1_04_04_lin_reg.kicad_sch\""
   ]
  },
  {
   "cell_type": "markdown",
   "metadata": {},
   "source": [
    "#### Prepare other paths"
   ]
  },
  {
   "cell_type": "code",
   "execution_count": 3,
   "metadata": {},
   "outputs": [],
   "source": [
    "# Create sim_results directory if doesn't exist\n",
    "RESULTS_PATH = PROJ_PATH / \"sim_results\"\n",
    "RESULTS_PATH.mkdir(parents=True, exist_ok=True)\n",
    "\n",
    "# Path to schematic\n",
    "SCHEMATIC_PATH = PROJ_PATH / \"kicad_schematics\"\n",
    "\n",
    "# Create netlists directory and files if they don't exist\n",
    "NETLISTS_PATH = PROJ_PATH / \"netlists\"\n",
    "NETLISTS_PATH.mkdir(parents=True, exist_ok=True)  # Create the directory"
   ]
  },
  {
   "cell_type": "markdown",
   "metadata": {},
   "source": [
    "#### Create dut.cir file from Kicad schematic"
   ]
  },
  {
   "cell_type": "code",
   "execution_count": 4,
   "metadata": {},
   "outputs": [],
   "source": [
    "DUT_SCH_FILENAME: Path = SCHEMATIC_PATH / DUT_SCHEMATIC_NAME\n",
    "KICAD_RAW_FILENAME = SCHEMATIC_PATH / \"raw_kicad.cir\""
   ]
  },
  {
   "cell_type": "markdown",
   "metadata": {},
   "source": [
    "#### Define netlists"
   ]
  },
  {
   "cell_type": "code",
   "execution_count": 5,
   "metadata": {},
   "outputs": [],
   "source": [
    "\n",
    "# Create title.cir with content only if it doesn't exist\n",
    "TITLE_FILENAME = NETLISTS_PATH / \"title.cir\"\n",
    "if not TITLE_FILENAME.exists():\n",
    "    with open(TITLE_FILENAME, \"w\") as f:\n",
    "        f.write(\"* First line in netlist must be a comment\")\n",
    "title = spi.Netlist(NETLISTS_PATH / TITLE_FILENAME)\n",
    "\n",
    "# These netlist objects will be combined and a top netlist will be created later\n",
    "load1 = spi.Netlist(NETLISTS_PATH / \"load_resistive.cir\")\n",
    "load2 = spi.Netlist(NETLISTS_PATH / \"load_resistive.cir\")\n",
    "load3 = spi.Netlist(NETLISTS_PATH / \"load_current_pulse.cir\")\n",
    "stimulus1 = spi.Netlist(NETLISTS_PATH / \"stimulus_15v_dc.cir\")\n",
    "stimulus2 = spi.Netlist(NETLISTS_PATH / \"stimulus_15v_ramp.cir\")\n",
    "stimulus3 = spi.Netlist(NETLISTS_PATH / \"stimulus_15v_dc.cir\")\n",
    "supplies = spi.Netlist(NETLISTS_PATH / \"supplies.cir\")\n",
    "models = spi.Netlist(NETLISTS_PATH / \"models.cir\")\n",
    "\n",
    "# Create \"end\" netlist object, but no need to write to a file\n",
    "end = spi.Netlist()\n",
    "end.insert_line(0, \".end\")\n",
    "\n",
    "# two files we'll create later for first simulation\n",
    "TOP1_FILENAME = NETLISTS_PATH / \"top1.cir\"\n",
    "CONTROL1_FILENAME = NETLISTS_PATH / \"control1.cir\"\n",
    "\n",
    "# two files we'll create later for second simulation\n",
    "TOP2_FILENAME = NETLISTS_PATH / \"top2.cir\"\n",
    "CONTROL2_FILENAME = NETLISTS_PATH / \"control2.cir\"\n",
    "\n",
    "# two files we'll create later for third simulation\n",
    "TOP3_FILENAME = NETLISTS_PATH / \"top3.cir\"\n",
    "CONTROL3_FILENAME = NETLISTS_PATH / \"control3.cir\"\n",
    "\n",
    "# Create dut.cir from raw_kicad.cir\n",
    "raw_kicad = spi.Netlist(NETLISTS_PATH / \"raw_kicad.cir\")\n",
    "raw_kicad.del_line_starts_with(\".title\")  # delete first line (title)\n",
    "raw_kicad.del_line_starts_with(\".end\")  # delete last line (.end)\n",
    "raw_kicad.del_line_starts_with(\".include\")  # delete first  .include line\n",
    "raw_kicad.del_line_starts_with(\".include\")  # delete second .include line\n",
    "raw_kicad.del_slash()   # delete forward slashes from node names\n",
    "dut = raw_kicad\n",
    "dut.write_to_file(NETLISTS_PATH / \"dut.cir\")  # this is now the dut (device under test)"
   ]
  },
  {
   "cell_type": "markdown",
   "metadata": {},
   "source": [
    "#### Create vectors"
   ]
  },
  {
   "cell_type": "code",
   "execution_count": 6,
   "metadata": {},
   "outputs": [],
   "source": [
    "VEC_ALL = spi.Vectors(\"all\")    # \"all\" gives us the default signals from a simulation"
   ]
  },
  {
   "cell_type": "markdown",
   "metadata": {},
   "source": [
    "### Simulation 1\n",
    "Operating point analysis and small signal transfer function"
   ]
  },
  {
   "cell_type": "markdown",
   "metadata": {},
   "source": [
    "#### Define analyses"
   ]
  },
  {
   "cell_type": "code",
   "execution_count": 7,
   "metadata": {},
   "outputs": [],
   "source": [
    "list_of_analyses1: list[spi.Analyses] = [] # create empty list. Next sections define\n",
    "\n",
    "# 1st analysis: operating point\n",
    "op_cmd = \"op\"\n",
    "op1 = spi.Analyses(\"op1\", \"op\", op_cmd, VEC_ALL, RESULTS_PATH)\n",
    "list_of_analyses1.append(op1)\n",
    "\n",
    "# 2nd analysis: transfer function\n",
    "tf_cmd = \"tf v(out) vin\"\n",
    "tf1 = spi.Analyses(\"tf1\", \"tf\", tf_cmd, VEC_ALL, RESULTS_PATH)\n",
    "list_of_analyses1.append(tf1)\n",
    "\n",
    "# # 3rd analysis: transient\n",
    "# tr_cmd = \"tran 1e-9 20e-6\"\n",
    "# tr1 = spi.Analyses(\"tr1\", \"tran\", tr_cmd, VEC_ALL, RESULTS_PATH)\n",
    "# list_of_analyses.append(tr1)"
   ]
  },
  {
   "cell_type": "markdown",
   "metadata": {},
   "source": [
    "#### Create control section"
   ]
  },
  {
   "cell_type": "code",
   "execution_count": 8,
   "metadata": {},
   "outputs": [
    {
     "name": "stdout",
     "output_type": "stream",
     "text": [
      "\n",
      "--- Control File ---\n",
      ".control\n",
      "* Timestamp: Sat Mar  2 20:49:35 2024\n",
      "set wr_singlescale  $ makes one x-axis for wrdata\n",
      "set wr_vecnames     $ puts names at top of columns\n",
      "listing\n",
      "op\n",
      "print line all > /workspaces/sw_pwr_book_sim/circuits/sec_1_04_04_lin_reg/sim_results/op1.txt\n",
      "tf v(out) vin\n",
      "print line all > /workspaces/sw_pwr_book_sim/circuits/sec_1_04_04_lin_reg/sim_results/tf1.txt\n",
      "quit\n",
      ".endc\n",
      "--------------------\n",
      "\n"
     ]
    }
   ],
   "source": [
    "my_control1 = spi.Control()  # create 'my_control' object\n",
    "my_control1.insert_lines([\"listing\"])  # cmd to list out netlist\n",
    "for analysis in list_of_analyses1:  # statements for all analyses\n",
    "    my_control1.insert_lines(analysis.lines_for_cntl())\n",
    "my_control1.content_to_file(CONTROL1_FILENAME)  # create the actual file\n",
    "control1 = spi.Netlist(NETLISTS_PATH / CONTROL1_FILENAME)  # create netlist object\n",
    "spi.print_section(\"Control File\", my_control1)  # print out contents"
   ]
  },
  {
   "cell_type": "markdown",
   "metadata": {},
   "source": [
    "#### Simulate"
   ]
  },
  {
   "cell_type": "code",
   "execution_count": 9,
   "metadata": {},
   "outputs": [
    {
     "name": "stdout",
     "output_type": "stream",
     "text": [
      "\n",
      "--- top netlist ---\n",
      "* linear regulator, section 1.4.4\n",
      "rf1 beta rc 100\n",
      "cf1 rc div 100n\n",
      "rlower1 div com 10k\n",
      "e1 beta com vref div 100\n",
      "rupper1 out div 10k\n",
      "e2 g com beta com 10\n",
      "x2 in gain gain k=0.05\n",
      "rsol1 sum out 1\n",
      "x3 gain g sum sum k1=1 k2=1 a=1\n",
      "rload out out_meas 50\n",
      "vmeas out_meas 0 dc 0\n",
      "vcom com 0 dc 0\n",
      "vref vref 0 dc 2.5\n",
      "vin in 0 dc 15\n",
      ".subckt gain in out k=1\n",
      "e1 out 0 in 0 {k}\n",
      ".ends gain\n",
      "\n",
      ".subckt sum in1 in2 out k1=1 k2=1 a=1\n",
      "b1 out 0 v = {a * ((v(in1) * k1) + (v(in2) * k2))}\n",
      ".ends sum\n",
      ".control\n",
      "* timestamp: sat mar  2 20:49:35 2024\n",
      "set wr_singlescale  $ makes one x-axis for wrdata\n",
      "set wr_vecnames     $ puts names at top of columns\n",
      "listing\n",
      "op\n",
      "print line all > /workspaces/sw_pwr_book_sim/circuits/sec_1_04_04_lin_reg/sim_results/op1.txt\n",
      "tf v(out) vin\n",
      "print line all > /workspaces/sw_pwr_book_sim/circuits/sec_1_04_04_lin_reg/sim_results/tf1.txt\n",
      "quit\n",
      ".endc\n",
      ".end\n",
      "-------------------\n",
      "\n",
      "\n",
      "--- Ngspice Command ---\n",
      "/usr/bin/ngspice -b /workspaces/sw_pwr_book_sim/circuits/sec_1_04_04_lin_reg/netlists/top1.cir\n",
      "-----------------------\n",
      "\n",
      "\n",
      "Note: No compatibility mode selected!\n",
      "\n",
      "\n",
      "Circuit: * linear regulator, section 1.4.4\n",
      "\n",
      "\t* linear regulator, section 1.4.4\n",
      "\n",
      "     2 : .global gnd\n",
      "     3 : rf1 beta rc 100\n",
      "     4 : cf1 rc div 100n\n",
      "     5 : rlower1 div com 10k\n",
      "     6 : e1 beta com vref div 100\n",
      "     7 : rupper1 out div 10k\n",
      "     8 : e2 g com beta com 10\n",
      "     9 : x2 in gain gain 0.05\n",
      "    10 : rsol1 sum out 1\n",
      "    11 : x3 gain g sum sum 1 1 1\n",
      "    12 : rload out out_meas 50\n",
      "    13 : vmeas out_meas 0 dc 0\n",
      "    14 : vcom com 0 dc 0\n",
      "    15 : vref vref 0 dc 2.5\n",
      "    16 : vin in 0 dc 15\n",
      "    17 : .subckt gain in out params: k=1\n",
      "    19 : e1 out 0 in 0 {k}\n",
      "    20 : .ends gain\n",
      "    21 : .subckt sum in1 in2 out params: k1=1 k2=1 a=1\n",
      "    27 : b1 out 0 v= ({a}) * ( ( v(in1) * ({k1}) ) + ( v(in2) * ({k2}) ) )\n",
      "    28 : .ends sum\n",
      "    29 : .control\n",
      "    31 : set wr_singlescale\n",
      "    32 : set wr_vecnames\n",
      "    33 : listing\n",
      "    34 : op\n",
      "    35 : print line all > /workspaces/sw_pwr_book_sim/circuits/sec_1_04_04_lin_reg/sim_results/op1.txt\n",
      "    36 : tf v(out) vin\n",
      "    37 : print line all > /workspaces/sw_pwr_book_sim/circuits/sec_1_04_04_lin_reg/sim_results/tf1.txt\n",
      "    38 : quit\n",
      "    39 : .endc\n",
      "    41 : .end\n",
      "Doing analysis at TEMP = 27.000000 and TNOM = 27.000000\n",
      "\n",
      "\n",
      "No. of Data Rows : 1\n",
      "Doing analysis at TEMP = 27.000000 and TNOM = 27.000000\n",
      "\n",
      "\n",
      "No. of Data Rows : 1\n",
      "ngspice-39 done\n"
     ]
    }
   ],
   "source": [
    "# Combine the netlists and write out into one top netlist, ready to simulate\n",
    "top1 = title + dut + load1 + supplies + stimulus1 + models + control1 + end\n",
    "\n",
    "top1.write_to_file(TOP1_FILENAME)\n",
    "spi.print_section(\"top netlist\", top1)\n",
    "\n",
    "# prepare simulate object, print out command, and simulate\n",
    "sim1 = spi.Simulate(NGSPICE_EXE, TOP1_FILENAME)\n",
    "spi.print_section(\"Ngspice Command\", sim1)\n",
    "sim1.run() # run the Ngspice simulation"
   ]
  },
  {
   "cell_type": "markdown",
   "metadata": {},
   "source": [
    "#### Simulation results to numpy"
   ]
  },
  {
   "cell_type": "code",
   "execution_count": 10,
   "metadata": {},
   "outputs": [],
   "source": [
    "# convert the raw results into list of SimResults objects\n",
    "my_sim_results1 = [\n",
    "    spi.SimResults.from_file(analysis.cmd_type, analysis.results_filename)\n",
    "    for analysis in list_of_analyses1\n",
    "]\n",
    "# give each SimResults object a more descriptive name\n",
    "op1_results, tf1_results = my_sim_results1"
   ]
  },
  {
   "cell_type": "markdown",
   "metadata": {},
   "source": [
    "#### Operating point values from op1 results"
   ]
  },
  {
   "cell_type": "code",
   "execution_count": 11,
   "metadata": {},
   "outputs": [
    {
     "name": "stdout",
     "output_type": "stream",
     "text": [
      "\n",
      "--- Operating Point Results ---\n",
      "b.x3.b1#branch  -0.100076\n",
      "beta             0.4341393\n",
      "com              0.0\n",
      "div              2.495659\n",
      "e.x2.e1#branch   0.0\n",
      "e1#branch        0.0\n",
      "e2#branch        0.0\n",
      "g                4.341393\n",
      "gain             0.75\n",
      "in               15.0\n",
      "out              4.991317\n",
      "out_meas         0.0\n",
      "rc               0.4341393\n",
      "sum              5.091393\n",
      "vcom#branch      0.0002495659\n",
      "vin#branch       0.0\n",
      "vmeas#branch     0.09982634\n",
      "vref             2.5\n",
      "vref#branch      0.0\n",
      "-------------------------------\n",
      "\n"
     ]
    }
   ],
   "source": [
    "spi.print_section(\"Operating Point Results\", op1_results.print_table())"
   ]
  },
  {
   "cell_type": "markdown",
   "metadata": {},
   "source": [
    "#### Small signal transfer function results from tf1 results"
   ]
  },
  {
   "cell_type": "code",
   "execution_count": 12,
   "metadata": {},
   "outputs": [
    {
     "name": "stdout",
     "output_type": "stream",
     "text": [
      "\n",
      "--- Transfer Function Results ---\n",
      "transfer_function            9.979641e-05\n",
      "output_impedance_at_v(out)   0.001995928\n",
      "vin#input_impedance          1e+20\n",
      "---------------------------------\n",
      "\n"
     ]
    }
   ],
   "source": [
    "spi.print_section(\"Transfer Function Results\", tf1_results.print_table())"
   ]
  },
  {
   "cell_type": "markdown",
   "metadata": {},
   "source": [
    "### Simulation 2\n",
    "Transient with Vin ramp"
   ]
  },
  {
   "cell_type": "markdown",
   "metadata": {},
   "source": [
    "#### Results from small signal DC transfer function analysis"
   ]
  },
  {
   "cell_type": "code",
   "execution_count": 13,
   "metadata": {},
   "outputs": [
    {
     "name": "stdout",
     "output_type": "stream",
     "text": [
      "hello world\n"
     ]
    }
   ],
   "source": [
    "print(\"hello world\")"
   ]
  }
 ],
 "metadata": {
  "kernelspec": {
   "display_name": "Python 3",
   "language": "python",
   "name": "python3"
  },
  "language_info": {
   "codemirror_mode": {
    "name": "ipython",
    "version": 3
   },
   "file_extension": ".py",
   "mimetype": "text/x-python",
   "name": "python",
   "nbconvert_exporter": "python",
   "pygments_lexer": "ipython3",
   "version": "3.12.2"
  }
 },
 "nbformat": 4,
 "nbformat_minor": 2
}
