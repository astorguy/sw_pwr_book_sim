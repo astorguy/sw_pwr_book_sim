{
 "cells": [
  {
   "cell_type": "markdown",
   "metadata": {},
   "source": [
    "#### Section 1.4.4 Linear Regulator\n",
    "Taken from \"Switch-Mode Power Supplies\" by Christophe P. Basso"
   ]
  },
  {
   "cell_type": "markdown",
   "metadata": {},
   "source": [
    "#### Imports"
   ]
  },
  {
   "cell_type": "code",
   "execution_count": 1,
   "metadata": {},
   "outputs": [],
   "source": [
    "from pathlib import Path\n",
    "import py4spice as spi\n",
    "import copy"
   ]
  },
  {
   "cell_type": "markdown",
   "metadata": {},
   "source": [
    "#### Path to Ngspice and the project"
   ]
  },
  {
   "cell_type": "code",
   "execution_count": 2,
   "metadata": {},
   "outputs": [],
   "source": [
    "# Path to NGSPICE\n",
    "NGSPICE_EXE = Path(\"/usr/bin/ngspice\")\n",
    "\n",
    "# Absolute path to my project\n",
    "PROJ_PATH = Path(\"/workspaces/sw_pwr_book_sim/circuits/sec_1_04_04_lin_reg\")"
   ]
  },
  {
   "cell_type": "markdown",
   "metadata": {},
   "source": [
    "#### Prepare other paths"
   ]
  },
  {
   "cell_type": "code",
   "execution_count": 3,
   "metadata": {},
   "outputs": [],
   "source": [
    "# Create sim_results directory if doesn't exist\n",
    "RESULTS_PATH = PROJ_PATH / \"sim_results\"\n",
    "RESULTS_PATH.mkdir(parents=True, exist_ok=True)"
   ]
  },
  {
   "cell_type": "markdown",
   "metadata": {},
   "source": [
    "#### Define netlists"
   ]
  },
  {
   "cell_type": "code",
   "execution_count": 4,
   "metadata": {},
   "outputs": [],
   "source": [
    "# Create netlists directory and files if they don't exist\n",
    "NETLISTS_PATH = PROJ_PATH / \"netlists\"\n",
    "NETLISTS_PATH.mkdir(parents=True, exist_ok=True)  # Create the directory\n",
    "\n",
    "# Create title.cir with content only if it doesn't exist\n",
    "TITLE_FILENAME = NETLISTS_PATH / \"title.cir\"\n",
    "if not TITLE_FILENAME.exists():\n",
    "    with open(TITLE_FILENAME, \"w\") as f:\n",
    "        f.write(\"* First line in netlist must be a comment\")\n",
    "title = spi.Netlist(NETLISTS_PATH / TITLE_FILENAME)\n",
    "\n",
    "# These netlist objects will be combined and a top netlist will be created later\n",
    "load = spi.Netlist(NETLISTS_PATH / \"load.cir\")\n",
    "stimulus = spi.Netlist(NETLISTS_PATH / \"stimulus.cir\")\n",
    "supplies = spi.Netlist(NETLISTS_PATH / \"supplies.cir\")\n",
    "models = spi.Netlist(NETLISTS_PATH / \"models.cir\")\n",
    "\n",
    "# Create \"end\" netlist object, but no need to write to a file\n",
    "end = spi.Netlist()\n",
    "end.insert_line(0, \".end\")\n",
    "\n",
    "# two files we'll create later\n",
    "TOP_FILENAME = NETLISTS_PATH / \"top.cir\"\n",
    "CONTROL_FILENAME = NETLISTS_PATH / \"control.cir\"\n",
    "\n",
    "# Create dut.cir from raw_kicad.cir\n",
    "raw_kicad = spi.Netlist(NETLISTS_PATH / \"raw_kicad.cir\")\n",
    "raw_kicad.del_line_starts_with(\".title\")  # delete first line (title)\n",
    "raw_kicad.del_line_starts_with(\".end\")  # delete last line (.end)\n",
    "raw_kicad.del_line_starts_with(\".include\")  # delete first  .include line\n",
    "raw_kicad.del_line_starts_with(\".include\")  # delete second .include line\n",
    "raw_kicad.del_slash()   # delete forward slashes from node names\n",
    "dut = raw_kicad\n",
    "dut.write_to_file(NETLISTS_PATH / \"dut.cir\")  # this is now the dut (device under test)"
   ]
  },
  {
   "cell_type": "markdown",
   "metadata": {},
   "source": [
    "#### Create vectors"
   ]
  },
  {
   "cell_type": "code",
   "execution_count": 5,
   "metadata": {},
   "outputs": [],
   "source": [
    "VEC_ALL = spi.Vectors(\"all\")\n",
    "VEC_ALL_EXPANDED = spi.Vectors(\n",
    "    \"q1_base div e1#branch in out out_meas vee vee#branch vin#branch vmeas#branch ref vref#branch\"\n",
    ")\n",
    "VEC_OUT = spi.Vectors(\"out\")\n",
    "VEC_IN_OUT = spi.Vectors(\"in out\")\n",
    "VEC_INTEREST = spi.Vectors(\"in out div q1_base\")\n",
    "VEC_POWER_CALC = spi.Vectors(\"in vin#branch out vmeas#branch\")\n",
    "VEC_ETA = spi.Vectors(\"eta\")"
   ]
  },
  {
   "cell_type": "markdown",
   "metadata": {},
   "source": [
    "#### Define analyses"
   ]
  },
  {
   "cell_type": "code",
   "execution_count": 6,
   "metadata": {},
   "outputs": [],
   "source": [
    "list_of_analyses: list[spi.Analyses] = [] # create empty list. Next sections define\n",
    "\n",
    "# 1st analysis: operating point\n",
    "# for this simulation, we'll have only one analysis\n",
    "op_cmd = \"op\"\n",
    "op1 = spi.Analyses(\"op1\", \"op\", op_cmd, VEC_ALL, RESULTS_PATH)\n",
    "list_of_analyses.append(op1)\n",
    "\n",
    "# 2nd analysis\n",
    "dc_cmd = \"dc vin 6 17 0.1\"\n",
    "dc1 = spi.Analyses(\"dc1\", \"dc\", dc_cmd, VEC_ALL, RESULTS_PATH)\n",
    "list_of_analyses.append(dc1)"
   ]
  },
  {
   "cell_type": "markdown",
   "metadata": {},
   "source": [
    "#### Create control section"
   ]
  },
  {
   "cell_type": "code",
   "execution_count": 7,
   "metadata": {},
   "outputs": [
    {
     "name": "stdout",
     "output_type": "stream",
     "text": [
      "\n",
      "--- Control File ---\n",
      ".control\n",
      "* Timestamp: Thu Feb 29 01:36:04 2024\n",
      "set wr_singlescale  $ makes one x-axis for wrdata\n",
      "set wr_vecnames     $ puts names at top of columns\n",
      "listing\n",
      "op\n",
      "print line all > /workspaces/sw_pwr_book_sim/circuits/sec_1_04_04_lin_reg/sim_results/op1.txt\n",
      "dc vin 6 17 0.1\n",
      "wrdata /workspaces/sw_pwr_book_sim/circuits/sec_1_04_04_lin_reg/sim_results/dc1.txt all\n",
      "quit\n",
      ".endc\n",
      "--------------------\n",
      "\n"
     ]
    }
   ],
   "source": [
    "my_control = spi.Control()  # create 'my_control' object\n",
    "my_control.insert_lines([\"listing\"])  # cmd to list out netlist\n",
    "for analysis in list_of_analyses:  # statements for all analyses\n",
    "    my_control.insert_lines(analysis.lines_for_cntl())\n",
    "my_control.content_to_file(CONTROL_FILENAME)  # creat the actual file\n",
    "control = spi.Netlist(NETLISTS_PATH / CONTROL_FILENAME)  # create netlist object\n",
    "spi.print_section(\"Control File\", my_control)  # print out contents"
   ]
  },
  {
   "cell_type": "markdown",
   "metadata": {},
   "source": [
    "#### Simulate"
   ]
  },
  {
   "cell_type": "code",
   "execution_count": 8,
   "metadata": {},
   "outputs": [
    {
     "name": "stdout",
     "output_type": "stream",
     "text": [
      "\n",
      "--- top netlist ---\n",
      "* linear regulator, section 1.4.4\n",
      "rf1 beta rc 100\n",
      "cf1 rc div 100n\n",
      "rlower1 div com 10k\n",
      "e1 beta com vref div 100\n",
      "rupper1 out div 10k\n",
      "e2 g com beta com 10\n",
      "x2 in gain gain k=0.05\n",
      "rsol1 sum out 1\n",
      "x3 gain g sum sum k1=1 k2=1 a=1\n",
      "rload out out_meas 100\n",
      "vmeas out_meas 0 dc 0\n",
      "vcom com 0 dc 0\n",
      "vref vref 0 dc 2.5\n",
      "vin in 0 dc 12\n",
      ".subckt gain in out k=1\n",
      "e1 out 0 in 0 {k}\n",
      ".ends gain\n",
      "\n",
      ".subckt sum in1 in2 out k1=1 k2=1 a=1\n",
      "b1 out 0 v = {a * ((v(in1) * k1) + (v(in2) * k2))}\n",
      ".ends sum\n",
      ".control\n",
      "* timestamp: thu feb 29 01:36:04 2024\n",
      "set wr_singlescale  $ makes one x-axis for wrdata\n",
      "set wr_vecnames     $ puts names at top of columns\n",
      "listing\n",
      "op\n",
      "print line all > /workspaces/sw_pwr_book_sim/circuits/sec_1_04_04_lin_reg/sim_results/op1.txt\n",
      "dc vin 6 17 0.1\n",
      "wrdata /workspaces/sw_pwr_book_sim/circuits/sec_1_04_04_lin_reg/sim_results/dc1.txt all\n",
      "quit\n",
      ".endc\n",
      ".end\n",
      "-------------------\n",
      "\n",
      "\n",
      "--- Ngspice Command ---\n",
      "/usr/bin/ngspice -b /workspaces/sw_pwr_book_sim/circuits/sec_1_04_04_lin_reg/netlists/top.cir\n",
      "-----------------------\n",
      "\n",
      "\n",
      "Note: No compatibility mode selected!\n",
      "\n",
      "\n",
      "Circuit: * linear regulator, section 1.4.4\n",
      "\n",
      "\t* linear regulator, section 1.4.4\n",
      "\n",
      "     2 : .global gnd\n",
      "     3 : rf1 beta rc 100\n",
      "     4 : cf1 rc div 100n\n",
      "     5 : rlower1 div com 10k\n",
      "     6 : e1 beta com vref div 100\n",
      "     7 : rupper1 out div 10k\n",
      "     8 : e2 g com beta com 10\n",
      "     9 : x2 in gain gain 0.05\n",
      "    10 : rsol1 sum out 1\n",
      "    11 : x3 gain g sum sum 1 1 1\n",
      "    12 : rload out out_meas 100\n",
      "    13 : vmeas out_meas 0 dc 0\n",
      "    14 : vcom com 0 dc 0\n",
      "    15 : vref vref 0 dc 2.5\n",
      "    16 : vin in 0 dc 12\n",
      "    17 : .subckt gain in out params: k=1\n",
      "    19 : e1 out 0 in 0 {k}\n",
      "    20 : .ends gain\n",
      "    21 : .subckt sum in1 in2 out params: k1=1 k2=1 a=1\n",
      "    27 : b1 out 0 v= ({a}) * ( ( v(in1) * ({k1}) ) + ( v(in2) * ({k2}) ) )\n",
      "    28 : .ends sum\n",
      "    29 : .control\n",
      "    31 : set wr_singlescale\n",
      "    32 : set wr_vecnames\n",
      "    33 : listing\n",
      "    34 : op\n",
      "    35 : print line all > /workspaces/sw_pwr_book_sim/circuits/sec_1_04_04_lin_reg/sim_results/op1.txt\n",
      "    36 : dc vin 6 17 0.1\n",
      "    37 : wrdata /workspaces/sw_pwr_book_sim/circuits/sec_1_04_04_lin_reg/sim_results/dc1.txt all\n",
      "    38 : quit\n",
      "    39 : .endc\n",
      "    41 : .end\n",
      "Doing analysis at TEMP = 27.000000 and TNOM = 27.000000\n",
      "\n",
      "\n",
      "No. of Data Rows : 1\n",
      "Doing analysis at TEMP = 27.000000 and TNOM = 27.000000\n",
      "\n",
      "\n",
      "No. of Data Rows : 111\n",
      "ngspice-39 done\n"
     ]
    }
   ],
   "source": [
    "# Combine the netlists and write out into one top netlist, ready to simulate\n",
    "top = title + dut + load + supplies + stimulus + models + control + end\n",
    "\n",
    "top.write_to_file(TOP_FILENAME)\n",
    "spi.print_section(\"top netlist\", top)\n",
    "\n",
    "# prepare simulate object, print out command, and simulate\n",
    "sim1 = spi.Simulate(NGSPICE_EXE, TOP_FILENAME)\n",
    "spi.print_section(\"Ngspice Command\", sim1)\n",
    "sim1.run() # run the Ngspice simulation"
   ]
  },
  {
   "cell_type": "markdown",
   "metadata": {},
   "source": [
    "#### Simulation results to numpy"
   ]
  },
  {
   "cell_type": "code",
   "execution_count": 9,
   "metadata": {},
   "outputs": [
    {
     "name": "stdout",
     "output_type": "stream",
     "text": [
      "dup indexes are: [15]\n"
     ]
    }
   ],
   "source": [
    "my_sim_results = [\n",
    "    spi.SimResults.from_file(analysis.cmd_type, analysis.results_filename)\n",
    "    for analysis in list_of_analyses\n",
    "]"
   ]
  },
  {
   "cell_type": "markdown",
   "metadata": {},
   "source": [
    "#### Operating point values from op1 analysis"
   ]
  },
  {
   "cell_type": "code",
   "execution_count": 10,
   "metadata": {},
   "outputs": [
    {
     "name": "stdout",
     "output_type": "stream",
     "text": [
      "0.0\n",
      "\n",
      "--- Operating Point Results ---\n",
      "b.x3.b1#branch  -0.0501607\n",
      "beta             0.4441278\n",
      "com              0.0\n",
      "div              2.495559\n",
      "e.x2.e1#branch   0.0\n",
      "e1#branch        0.0\n",
      "e2#branch        0.0\n",
      "g                4.441278\n",
      "gain             0.6\n",
      "in               12.0\n",
      "out              4.991117\n",
      "out_meas         0.0\n",
      "rc               0.4441278\n",
      "sum              5.041278\n",
      "vcom#branch      0.0002495559\n",
      "vin#branch       0.0\n",
      "vmeas#branch     0.04991117\n",
      "vref             2.5\n",
      "vref#branch      0.0\n",
      "-------------------------------\n",
      "\n"
     ]
    }
   ],
   "source": [
    "# 1st simulation was operating point\n",
    "spi.print_section(\"Operating Point Results\", my_sim_results[0].print_table())"
   ]
  },
  {
   "cell_type": "markdown",
   "metadata": {},
   "source": [
    "#### Results from DC transfer analysis"
   ]
  },
  {
   "cell_type": "code",
   "execution_count": 12,
   "metadata": {},
   "outputs": [
    {
     "data": {
      "image/png": "[encoded data removed]",
      "text/plain": [
       "<Figure size 1600x800 with 1 Axes>"
      ]
     },
     "metadata": {},
     "output_type": "display_data"
    }
   ],
   "source": [
    "# make a copy of simresults[1] (dc analysis) and reduce signals necessary for power calc\n",
    "pwr1 = copy.deepcopy(my_sim_results[1])\n",
    "pwr1.vec_subset(VEC_POWER_CALC.list_out())\n",
    "pwr1.multiply(\"in\", \"vin#branch\", \"pin\")        # calc input power\n",
    "pwr1.multiply(\"out\", \"vmeas#branch\", \"pout\")    # calc output power\n",
    "pwr1.divide(\"pout\", \"pin\", \"eta_neg\")           # calc efficiency\n",
    "pwr1.scaler(-100, \"eta_neg\", \"eta\")             # make positive value & convert to %\n",
    "\n",
    "# make a copy and reduce signals to just \"eta\"\n",
    "pwr2 = copy.deepcopy(pwr1)\n",
    "pwr2.vec_subset(VEC_ETA.list_out())\n",
    "\n",
    "# plot the efficiency vs. Vin\n",
    "plot_data = pwr2.x_axis_and_sigs(VEC_ETA.list_out())\n",
    "y_names = VEC_ETA.list_out()\n",
    "my_plt = spi.Plot(\"my_plot\", plot_data, y_names, RESULTS_PATH)\n",
    "my_plt.set_title(\"Power Efficiency\")\n",
    "my_plt.define_axes((\"Vin\", \"voltage\", \"linear\"), (\"efficiency\", \"%\", \"linear\"))"
   ]
  }
 ],
 "metadata": {
  "kernelspec": {
   "display_name": "Python 3",
   "language": "python",
   "name": "python3"
  },
  "language_info": {
   "codemirror_mode": {
    "name": "ipython",
    "version": 3
   },
   "file_extension": ".py",
   "mimetype": "text/x-python",
   "name": "python",
   "nbconvert_exporter": "python",
   "pygments_lexer": "ipython3",
   "version": "3.12.2"
  }
 },
 "nbformat": 4,
 "nbformat_minor": 2
}
