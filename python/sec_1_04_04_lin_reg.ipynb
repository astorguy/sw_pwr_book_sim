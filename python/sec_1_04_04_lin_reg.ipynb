{
 "cells": [
  {
   "cell_type": "markdown",
   "metadata": {},
   "source": [
    "#### Section 1.4.4 Linear Regulator\n",
    "Taken from \"Switch-Mode Power Supplies\" by Christophe P. Basso"
   ]
  },
  {
   "cell_type": "markdown",
   "metadata": {},
   "source": [
    "#### Imports and typing"
   ]
  },
  {
   "cell_type": "code",
   "execution_count": 1,
   "metadata": {},
   "outputs": [],
   "source": [
    "from typing import TypeAlias\n",
    "import numpy as np\n",
    "import numpy.typing as npt\n",
    "import tomllib\n",
    "from pathlib import Path\n",
    "from typing import Any\n",
    "import py4spice as spi\n",
    "import copy\n",
    "\n",
    "# Aliases for type checking\n",
    "numpy_flt: TypeAlias = npt.NDArray[np.float64]"
   ]
  },
  {
   "cell_type": "markdown",
   "metadata": {},
   "source": [
    "#### Constants"
   ]
  },
  {
   "cell_type": "markdown",
   "metadata": {},
   "source": [
    "Set project to read proper section in config file"
   ]
  },
  {
   "cell_type": "code",
   "execution_count": 2,
   "metadata": {},
   "outputs": [],
   "source": [
    "MY_PROJECT: str = \"sec_1_04_04\""
   ]
  },
  {
   "cell_type": "markdown",
   "metadata": {},
   "source": [
    "Keys for the dictionaries. Defined here at top level so they can be referenced instead of using strings for keys."
   ]
  },
  {
   "cell_type": "code",
   "execution_count": 3,
   "metadata": {},
   "outputs": [],
   "source": [
    "class Key:\n",
    "    \"\"\"Keys for dictionaries\"\"\"\n",
    "\n",
    "    # Keys for decoding the config file\n",
    "    CONFIG_NAME = \"config_name\"\n",
    "    GLOBAL_SECTION = \"global_section\"\n",
    "    NGSPICE_EXE_KEY = \"ngspice_exe_str\"\n",
    "    NETLISTS_DIR_KEY = \"netlists_dir_str\"\n",
    "    RESULTS_DIR_KEY = \"results_dir_str\"\n",
    "    SIM_TRANSCRIPT_KEY = \"sim_transcript_str\"\n",
    "    PROJ_PATH_KEY = \"proj_path_str\"\n",
    "    DESCRIPTION_KEY = \"description\"\n",
    "    PROJ_SECTION = \"proj_section\"\n",
    "\n",
    "    # Keys for the paths_dict\n",
    "    NGSPICE_EXE = \"ngspice_exe\"\n",
    "    PROJ_PATH = \"proj_path\"\n",
    "    NETLISTS_PATH = \"netlists_path\"\n",
    "    RESULTS_PATH = \"results_path\"\n",
    "    SIM_TRANSCRIPT_FILENAME = \"sim_transcript_filename\"\n",
    "\n",
    "    # Keys for the netlists_dict\n",
    "    BLANKLINE = \"blankline\"\n",
    "    TITLE = \"title\"\n",
    "    END_LINE = \"end_line\"\n",
    "    LOAD1 = \"load1\"\n",
    "    LOAD2 = \"load2\"\n",
    "    LOAD3 = \"load3\"\n",
    "    STIMULUS1 = \"stimulus1\"\n",
    "    STIMULUS2 = \"stimulus2\"\n",
    "    STIMULUS3 = \"stimulus3\"\n",
    "    SUPPLIES = \"supplies\"\n",
    "    MODELS = \"models\"\n",
    "    DUT = \"dut\"\n",
    "    CONTROL1 = \"control1\"\n",
    "    CONTROL2 = \"control2\"\n",
    "    TOP1 = \"top1\"\n",
    "    TOP2 = \"top2\"\n",
    "\n",
    "    # Keys for the vectors_dict\n",
    "    VEC_ALL = \"vec_all\"\n",
    "    VEC_IN_OUT = \"vec_in_out\"\n",
    "    VEC_OUT = \"vec_out\""
   ]
  },
  {
   "cell_type": "markdown",
   "metadata": {},
   "source": [
    "Dictionary for decoding the config file. Do not change values unless changing the section or key names in the config file."
   ]
  },
  {
   "cell_type": "code",
   "execution_count": 4,
   "metadata": {},
   "outputs": [],
   "source": [
    "config_file_decoding = {\n",
    "    Key.CONFIG_NAME: \"/workspaces/sw_pwr_book_sim/python/config.toml\",\n",
    "    Key.GLOBAL_SECTION: \"global\",\n",
    "    Key.PROJ_SECTION: MY_PROJECT,\n",
    "    Key.NGSPICE_EXE_KEY: \"ngspice_exe_str\",\n",
    "    Key.NETLISTS_DIR_KEY: \"netlists_dir_str\",\n",
    "    Key.RESULTS_DIR_KEY: \"results_dir_str\",\n",
    "    Key.SIM_TRANSCRIPT_KEY: \"sim_transcript_str\",\n",
    "    Key.PROJ_PATH_KEY: \"proj_path_str\",\n",
    "}"
   ]
  },
  {
   "cell_type": "markdown",
   "metadata": {},
   "source": [
    "#### Functions called from initialize function"
   ]
  },
  {
   "cell_type": "code",
   "execution_count": 5,
   "metadata": {},
   "outputs": [],
   "source": [
    "def define_paths(\n",
    "    my_config: dict[Any, Any], config_decoding: dict[str, str]\n",
    ") -> dict[str, Path]:\n",
    "    \"\"\"Define all the paths needed for the project\"\"\"\n",
    "\n",
    "    # Here are the decodings for the config dictionary, which came from the config file\n",
    "    config_global_section: str = config_decoding[Key.GLOBAL_SECTION]\n",
    "    config_ngspice_exe_key: str = config_decoding[Key.NGSPICE_EXE_KEY]\n",
    "    config_netlists_dir_key: str = config_decoding[Key.NETLISTS_DIR_KEY]\n",
    "    config_results_dir_key: str = config_decoding[Key.RESULTS_DIR_KEY]\n",
    "    config_sim_transcript_key: str = config_decoding[Key.SIM_TRANSCRIPT_KEY]\n",
    "    config_proj_path_key: str = config_decoding[Key.PROJ_PATH_KEY]\n",
    "    config_proj_section: str = config_decoding[Key.PROJ_SECTION]\n",
    "\n",
    "    # Create paths based on the config dictionary\n",
    "    ngspice_exe: Path = Path(my_config[config_global_section][config_ngspice_exe_key])\n",
    "    proj_path: Path = Path(my_config[config_proj_section][config_proj_path_key])\n",
    "    netlists_path: Path = (\n",
    "        proj_path / my_config[config_global_section][config_netlists_dir_key]\n",
    "    )\n",
    "    results_path: Path = (\n",
    "        proj_path / my_config[config_global_section][config_results_dir_key]\n",
    "    )\n",
    "\n",
    "    # create results directory if it does not exist\n",
    "    results_path.mkdir(parents=True, exist_ok=True)\n",
    "\n",
    "    # create simlulation transcript file. If it exists, make sure it is empty\n",
    "    sim_tran_filename: Path = (\n",
    "        results_path / my_config[config_global_section][config_sim_transcript_key]\n",
    "    )\n",
    "    if sim_tran_filename.exists():  # delete and recreate. this makes sure it's empty\n",
    "        sim_tran_filename.unlink()\n",
    "    sim_tran_filename.touch()\n",
    "\n",
    "    # create paths dictionary\n",
    "    my_paths = {\n",
    "        Key.NGSPICE_EXE: ngspice_exe,\n",
    "        Key.PROJ_PATH: proj_path,\n",
    "        Key.NETLISTS_PATH: netlists_path,\n",
    "        Key.RESULTS_PATH: results_path,\n",
    "        Key.SIM_TRANSCRIPT_FILENAME: sim_tran_filename,\n",
    "    }\n",
    "    return my_paths"
   ]
  },
  {
   "cell_type": "code",
   "execution_count": 6,
   "metadata": {},
   "outputs": [],
   "source": [
    "def special_netlists(\n",
    "    netlists_dict: dict[str, spi.Netlist], proj_description: str\n",
    ") -> dict[str, spi.Netlist]:\n",
    "    \"\"\"Create special netlist objects and add to netlist dictionary\"\"\"\n",
    "\n",
    "    # create blank line for spacing and add to netlist dictionary\n",
    "    netlists_dict[Key.BLANKLINE] = spi.Netlist(\"\")\n",
    "\n",
    "    # create title netlist object and add to netlist dictionary\n",
    "    netlists_dict[Key.TITLE] = spi.Netlist(f\"* {proj_description}\")\n",
    "\n",
    "    # create end statement netlist object and add to netlist dictionary\n",
    "    netlists_dict[Key.END_LINE] = spi.Netlist(\".end\")\n",
    "\n",
    "    return netlists_dict"
   ]
  },
  {
   "cell_type": "code",
   "execution_count": 7,
   "metadata": {},
   "outputs": [],
   "source": [
    "def netlists_from_files(\n",
    "    netlists_dict: dict[str, spi.Netlist], netlist_path: Path\n",
    ") -> dict[str, spi.Netlist]:\n",
    "    \"\"\"read in netlists from files and add to netlist dictionary\"\"\"\n",
    "\n",
    "    netlists_dict[Key.LOAD1] = spi.Netlist(netlist_path / \"load_resistive.cir\")\n",
    "    netlists_dict[Key.LOAD2] = spi.Netlist(netlist_path / \"load_resistive.cir\")\n",
    "    netlists_dict[Key.LOAD3] = spi.Netlist(netlist_path / \"load_current_pulse.cir\")\n",
    "    netlists_dict[Key.STIMULUS1] = spi.Netlist(netlist_path / \"stimulus_15v_dc.cir\")\n",
    "    netlists_dict[Key.STIMULUS2] = spi.Netlist(netlist_path / \"stimulus_15v_ramp.cir\")\n",
    "    netlists_dict[Key.STIMULUS3] = spi.Netlist(netlist_path / \"stimulus_15v_dc.cir\")\n",
    "    netlists_dict[Key.SUPPLIES] = spi.Netlist(netlist_path / \"supplies.cir\")\n",
    "    netlists_dict[Key.MODELS] = spi.Netlist(netlist_path / \"models.cir\")\n",
    "\n",
    "    return netlists_dict"
   ]
  },
  {
   "cell_type": "code",
   "execution_count": 8,
   "metadata": {},
   "outputs": [],
   "source": [
    "def prepare_dut(\n",
    "    netlists_dict: dict[str, spi.Netlist], netlists_path: Path\n",
    ") -> dict[str, spi.Netlist]:\n",
    "    \"\"\"Prepare dut.cir from raw_kicad.cir\"\"\"\n",
    "\n",
    "    dut: spi.Netlist = spi.Netlist(netlists_path / \"raw_kicad.cir\")\n",
    "    dut.del_line_starts_with(\".title\")  # delete first line (title)\n",
    "    dut.del_line_starts_with(\".end\")  # delete last line (.end)\n",
    "    dut.del_line_starts_with(\".include\")  # delete first  .include line\n",
    "    dut.del_line_starts_with(\".include\")  # delete second .include line\n",
    "    dut.del_slash()  # delete forward slashes from node names\n",
    "\n",
    "    netlists_dict[Key.DUT] = dut  # add to netlist dictionary\n",
    "\n",
    "    return netlists_dict"
   ]
  },
  {
   "cell_type": "code",
   "execution_count": 9,
   "metadata": {},
   "outputs": [],
   "source": [
    "def define_netlists(\n",
    "    paths_dict: dict[str, Path], proj_description: str\n",
    ") -> dict[str, spi.Netlist]:\n",
    "    \"\"\"Create and return dictionary of netlist objects\"\"\"\n",
    "\n",
    "    netlists_path: Path = paths_dict[Key.NETLISTS_PATH]\n",
    "\n",
    "    netlists_dict: dict[str, spi.Netlist] = {}  # create empty netlist dictionary\n",
    "    netlists_dict = special_netlists(netlists_dict, proj_description)\n",
    "    netlists_dict = netlists_from_files(netlists_dict, netlists_path)\n",
    "    netlists_dict = prepare_dut(netlists_dict, netlists_path)\n",
    "\n",
    "    return netlists_dict"
   ]
  },
  {
   "cell_type": "code",
   "execution_count": 10,
   "metadata": {},
   "outputs": [],
   "source": [
    "def define_vector_sets() -> dict[str, spi.Vectors]:\n",
    "    \"\"\"Define a dictionary vector sets for simulation and post-simulation analysis\"\"\"\n",
    "    return {\n",
    "        Key.VEC_ALL: spi.Vectors(\"all\"),\n",
    "        Key.VEC_IN_OUT: spi.Vectors(\"in out\"),\n",
    "        Key.VEC_OUT: spi.Vectors(\"out\"),\n",
    "    }"
   ]
  },
  {
   "cell_type": "markdown",
   "metadata": {},
   "source": [
    "#### Initialize\n",
    "This function is executed before we start defining and running simulations. It calls functions that are defined above"
   ]
  },
  {
   "cell_type": "code",
   "execution_count": 11,
   "metadata": {},
   "outputs": [],
   "source": [
    "def initialize(\n",
    "    config_decoding: dict[str, str]\n",
    ") -> tuple[dict[str, Path], dict[str, spi.Netlist], dict[str, spi.Vectors]]:\n",
    "    \"\"\"Initialize the project by creating paths, netlists, and vector sets\"\"\"\n",
    "\n",
    "    # read config file and create config dictionary\n",
    "    config_name: Path = Path(config_decoding[Key.CONFIG_NAME])\n",
    "    with open(config_name, \"rb\") as file:\n",
    "        my_config: dict[str, Any] = tomllib.load(file)\n",
    "\n",
    "    # get the project description from config dictionary\n",
    "    proj_description: str = my_config[config_file_decoding[Key.PROJ_SECTION]][\n",
    "        Key.DESCRIPTION_KEY\n",
    "    ]\n",
    "\n",
    "    # create paths dictionary\n",
    "    paths_dict: dict[str, Path] = define_paths(my_config, config_decoding)\n",
    "\n",
    "    # create netlists dictionary\n",
    "    netlists_dict = define_netlists(paths_dict, proj_description)\n",
    "\n",
    "    # create vector sets dictionary\n",
    "    vectors_dict: dict[str, spi.Vectors] = define_vector_sets()\n",
    "\n",
    "    return paths_dict, netlists_dict, vectors_dict"
   ]
  },
  {
   "cell_type": "code",
   "execution_count": 12,
   "metadata": {},
   "outputs": [],
   "source": [
    "def define_analyses1(\n",
    "    paths_dict: dict[str, Path], vectors_dict: dict[str, spi.Vectors]\n",
    ") -> list[spi.Analyses]:\n",
    "    \"\"\"Define and return a list of analyses\"\"\"\n",
    "\n",
    "    # vectors for each analysis and path to put results\n",
    "    vec_all: spi.Vectors = vectors_dict[Key.VEC_ALL]\n",
    "    results_path: Path = paths_dict[Key.RESULTS_PATH]\n",
    "\n",
    "    # create empty list. Next sections define\n",
    "    list_of_analyses: list[spi.Analyses] = []\n",
    "\n",
    "    # 1st analysis: operating point\n",
    "    op_cmd = \"op\"\n",
    "    op1 = spi.Analyses(\"op1\", \"op\", op_cmd, vec_all, results_path)\n",
    "    list_of_analyses.append(op1)\n",
    "\n",
    "    # 2nd analysis: transfer function\n",
    "    tf_cmd = \"tf v(out) vin\"\n",
    "    tf1 = spi.Analyses(\"tf1\", \"tf\", tf_cmd, vec_all, results_path)\n",
    "    list_of_analyses.append(tf1)\n",
    "\n",
    "    return list_of_analyses"
   ]
  },
  {
   "cell_type": "code",
   "execution_count": 13,
   "metadata": {},
   "outputs": [],
   "source": [
    "def create_control_section(list_of_analyses: list[spi.Analyses]) -> spi.Netlist:\n",
    "\n",
    "    my_control = spi.Control()  # create 'my_control' object\n",
    "    # my_control.insert_lines([\"listing\"])  # cmd to list out netlist\n",
    "    for analysis in list_of_analyses:  # statements for all analyses\n",
    "        my_control.insert_lines(analysis.lines_for_cntl())\n",
    "\n",
    "    return spi.Netlist(str(my_control))  # create netlist object"
   ]
  },
  {
   "cell_type": "code",
   "execution_count": 14,
   "metadata": {},
   "outputs": [],
   "source": [
    "def create_top1_netlist(\n",
    "    netlists_dict: dict[str, spi.Netlist]\n",
    ") -> dict[str, spi.Netlist]:\n",
    "    \"\"\"Create netlist object and add to netlist dictionary\"\"\"\n",
    "\n",
    "    # concatenate all tne netlists to make top1 and add to netlist dict\n",
    "    netlists_dict[Key.TOP1] = (\n",
    "        netlists_dict[Key.TITLE]\n",
    "        + netlists_dict[Key.BLANKLINE]\n",
    "        + netlists_dict[Key.DUT]\n",
    "        + netlists_dict[Key.LOAD1]\n",
    "        + netlists_dict[Key.BLANKLINE]\n",
    "        + netlists_dict[Key.SUPPLIES]\n",
    "        + netlists_dict[Key.BLANKLINE]\n",
    "        + netlists_dict[Key.STIMULUS1]\n",
    "        + netlists_dict[Key.BLANKLINE]\n",
    "        + netlists_dict[Key.MODELS]\n",
    "        + netlists_dict[Key.BLANKLINE]\n",
    "        + netlists_dict[Key.CONTROL1]\n",
    "        + netlists_dict[Key.END_LINE]\n",
    "    )\n",
    "    return netlists_dict"
   ]
  },
  {
   "cell_type": "code",
   "execution_count": 15,
   "metadata": {},
   "outputs": [],
   "source": [
    "def execute_ngspice(\n",
    "    ngspice_exe: Path, netlist: Path, sim_transcript: Path, sim_name: str\n",
    ") -> None:\n",
    "    \"\"\"Execute ngspice\"\"\"\n",
    "\n",
    "    # prepare simulate object, print out command, and simulate\n",
    "    sim1: spi.Simulate = spi.Simulate(ngspice_exe, netlist, sim_transcript, sim_name)\n",
    "    # spi.print_section(\"Ngspice Command\", sim1) # print out command\n",
    "    sim1.run()  # run the Ngspice simulation"
   ]
  },
  {
   "cell_type": "code",
   "execution_count": 16,
   "metadata": {},
   "outputs": [],
   "source": [
    "def convert_to_numpy(list_of_analyses: list[spi.Analyses]) -> list[spi.SimResults]:\n",
    "    # convert the raw results into list of SimResults objects\n",
    "    return [\n",
    "        spi.SimResults.from_file(analysis.cmd_type, analysis.results_filename)\n",
    "        for analysis in list_of_analyses\n",
    "    ]"
   ]
  },
  {
   "cell_type": "code",
   "execution_count": 17,
   "metadata": {},
   "outputs": [],
   "source": [
    "def simulate1(\n",
    "    paths_dict: dict[str, Path],\n",
    "    netlists_dict: dict[str, spi.Netlist],\n",
    "    vectors_dict: dict[str, spi.Vectors],\n",
    ") -> tuple[list[spi.SimResults], dict[str, spi.Netlist]]:\n",
    "    \"\"\"Setup and run the first simulation. We will be doing several things in sequence:\n",
    "    1. Define analyses\n",
    "    2. Create control section\n",
    "    3. Create top1 netlist\n",
    "    4. Write top1 netlist to file\n",
    "    5. Execute ngspice\n",
    "    6. Convert raw results to numpy arrays\n",
    "    \"\"\"\n",
    "    list_of_analyses = define_analyses1(paths_dict, vectors_dict)  # step 1\n",
    "    netlists_dict[Key.CONTROL1] = create_control_section(list_of_analyses)  # step 2\n",
    "    netlists_dict = create_top1_netlist(netlists_dict)  # step 3\n",
    "    top1_filename: Path = paths_dict[Key.NETLISTS_PATH] / \"top1.cir\"  # step 4\n",
    "    netlists_dict[Key.TOP1].write_to_file(top1_filename)\n",
    "    # step 5\n",
    "    execute_ngspice(\n",
    "        paths_dict[Key.NGSPICE_EXE],\n",
    "        top1_filename,\n",
    "        paths_dict[Key.SIM_TRANSCRIPT_FILENAME],\n",
    "        \"sim1\",\n",
    "    )\n",
    "    sim_results: list[spi.SimResults] = convert_to_numpy(list_of_analyses)  # step 6\n",
    "    return sim_results, netlists_dict"
   ]
  },
  {
   "cell_type": "code",
   "execution_count": 18,
   "metadata": {},
   "outputs": [],
   "source": [
    "def define_analyses2(\n",
    "    paths_dict: dict[str, Path], vectors_dict: dict[str, spi.Vectors]\n",
    ") -> list[spi.Analyses]:\n",
    "    \"\"\"Define and return a list of analyses\"\"\"\n",
    "\n",
    "    # vectors for each analysis and path to put results\n",
    "    vec_all: spi.Vectors = vectors_dict[Key.VEC_ALL]\n",
    "    results_path: Path = paths_dict[Key.RESULTS_PATH]\n",
    "\n",
    "    # create empty list. Next sections define\n",
    "    list_of_analyses: list[spi.Analyses] = []\n",
    "\n",
    "    # 1st analysis\n",
    "    tr_cmd = \"tran 1e-9 20e-6\"\n",
    "    tr1 = spi.Analyses(\"tr1\", \"tran\", tr_cmd, vec_all, results_path)\n",
    "    list_of_analyses.append(tr1)\n",
    "\n",
    "    return list_of_analyses"
   ]
  },
  {
   "cell_type": "code",
   "execution_count": 19,
   "metadata": {},
   "outputs": [],
   "source": [
    "def create_top2_netlist(\n",
    "    netlists_dict: dict[str, spi.Netlist]\n",
    ") -> dict[str, spi.Netlist]:\n",
    "    \"\"\"Create netlist object and add to netlist dictionary\"\"\"\n",
    "\n",
    "    # concatenate all tne netlists to make top1 and add to netlist dict\n",
    "    netlists_dict[Key.TOP2] = (\n",
    "        netlists_dict[Key.TITLE]\n",
    "        + netlists_dict[Key.BLANKLINE]\n",
    "        + netlists_dict[Key.DUT]\n",
    "        + netlists_dict[Key.LOAD2]\n",
    "        + netlists_dict[Key.BLANKLINE]\n",
    "        + netlists_dict[Key.SUPPLIES]\n",
    "        + netlists_dict[Key.BLANKLINE]\n",
    "        + netlists_dict[Key.STIMULUS2]\n",
    "        + netlists_dict[Key.BLANKLINE]\n",
    "        + netlists_dict[Key.MODELS]\n",
    "        + netlists_dict[Key.BLANKLINE]\n",
    "        + netlists_dict[Key.CONTROL2]\n",
    "        + netlists_dict[Key.END_LINE]\n",
    "    )\n",
    "    return netlists_dict"
   ]
  },
  {
   "cell_type": "code",
   "execution_count": 20,
   "metadata": {},
   "outputs": [],
   "source": [
    "def simulate2(\n",
    "    paths_dict: dict[str, Path],\n",
    "    netlists_dict: dict[str, spi.Netlist],\n",
    "    vectors_dict: dict[str, spi.Vectors],\n",
    ") -> tuple[list[spi.SimResults], dict[str, spi.Netlist]]:\n",
    "    \"\"\"Setup and run the first simulation. We will be doing several things in sequence:\n",
    "    1. Define analyses\n",
    "    2. Create control section\n",
    "    3. Create top2 netlist\n",
    "    4. Write top2 netlist to file\n",
    "    5. Execute ngspice\n",
    "    6. Convert raw results to numpy arrays\n",
    "    \"\"\"\n",
    "    list_of_analyses = define_analyses2(paths_dict, vectors_dict)  # step 1\n",
    "    netlists_dict[Key.CONTROL2] = create_control_section(list_of_analyses)  # step 2\n",
    "    netlists_dict = create_top2_netlist(netlists_dict)  # step 3\n",
    "    top2_filename: Path = paths_dict[Key.NETLISTS_PATH] / \"top2.cir\"  # step 4\n",
    "    netlists_dict[Key.TOP2].write_to_file(top2_filename)\n",
    "    # step 5\n",
    "    execute_ngspice(\n",
    "        paths_dict[Key.NGSPICE_EXE],\n",
    "        top2_filename,\n",
    "        paths_dict[Key.SIM_TRANSCRIPT_FILENAME],\n",
    "        \"sim2\",\n",
    "    )\n",
    "    sim_results: list[spi.SimResults] = convert_to_numpy(list_of_analyses)  # step 6\n",
    "    return sim_results, netlists_dict"
   ]
  },
  {
   "cell_type": "code",
   "execution_count": 21,
   "metadata": {},
   "outputs": [],
   "source": [
    "def plot_tr(\n",
    "    sim_result: spi.SimResults, vectors_to_plot: spi.Vectors, results_path: Path\n",
    ") -> None:\n",
    "    \"\"\"plot tranisent results\"\"\"\n",
    "    plot_data = sim_result.x_axis_and_sigs(vectors_to_plot.list_out())\n",
    "    y_names = vectors_to_plot.list_out()\n",
    "    my_plt = spi.Plot(\"tr_plt\", plot_data, y_names, results_path)\n",
    "    my_plt.set_title(\"sim2 transient results\")\n",
    "    my_plt.define_axes((\"time\", \"sec\", \"linear\"), (\"voltage\", \"V\", \"linear\"))\n",
    "    my_plt.png()    # create png file and send to results directory\n",
    "    spi.display_plots()"
   ]
  },
  {
   "cell_type": "code",
   "execution_count": 22,
   "metadata": {},
   "outputs": [],
   "source": [
    "def analyze_results(\n",
    "    sim_results1: list[spi.SimResults],\n",
    "    sim_results2: list[spi.SimResults],\n",
    "    vectors_dict: dict[str, spi.Vectors],\n",
    "    results_path: Path,\n",
    ") -> None:\n",
    "    # give each SimResults object a more descriptive name\n",
    "    op1_results, tf1_results = sim_results1\n",
    "    tr1: spi.SimResults = sim_results2[0]\n",
    "    vec_out: spi.Vectors = vectors_dict[Key.VEC_OUT]  # easier name\n",
    "\n",
    "    # diaplay results for operating point analysis\n",
    "    spi.print_section(\"Operating Point Results\", op1_results.print_table())\n",
    "\n",
    "    # display results for small signal transfer function analysis\n",
    "    spi.print_section(\"Part 1: Transfer Function Results\", tf1_results.print_table())\n",
    "\n",
    "    tr2 = copy.deepcopy(tr1)\n",
    "    tr2.vec_subset(vec_out.list_out())  # limit to just \"out\" signal\n",
    "    tr2.x_range(9e-6, 12e-6, 1000)  # limit range to just step results\n",
    "    plot_tr(tr2, vec_out, results_path)\n",
    "\n",
    "    tr2_numpys: list[numpy_flt] = tr2.x_axis_and_sigs(vec_out.list_out())\n",
    "    my_meas:spi.StepInfo = spi.StepInfo(tr2_numpys[0], tr2_numpys[1], 9e-6, 12e-6, 10000)\n",
    "    vin_delta:float = 500.0 - 15.0\n",
    "    vout_delta:float = my_meas.ydelta\n",
    "    a_s_ol:float = vout_delta / vin_delta \n",
    "    stuff:str = f\"Open loop gain (DC audio susceptibility): {a_s_ol:.3g}\"\n",
    "    spi.print_section(\"Part 2 calculations\", stuff)"
   ]
  },
  {
   "cell_type": "code",
   "execution_count": 23,
   "metadata": {},
   "outputs": [
    {
     "name": "stdout",
     "output_type": "stream",
     "text": [
      "\n",
      "--- Operating Point Results ---\n",
      "b.x3.b1#branch  -0.100076\n",
      "beta             0.4341393\n",
      "com              0.0\n",
      "div              2.495659\n",
      "e.x2.e1#branch   0.0\n",
      "e1#branch        0.0\n",
      "e2#branch        0.0\n",
      "g                4.341393\n",
      "gain             0.75\n",
      "in               15.0\n",
      "out              4.991317\n",
      "out_meas         0.0\n",
      "sum              5.091393\n",
      "vcom#branch      0.0002495659\n",
      "vin#branch       0.0\n",
      "vmeas#branch     0.09982634\n",
      "vref             2.5\n",
      "vref#branch      0.0\n",
      "-------------------------------\n",
      "\n",
      "\n",
      "--- Part 1: Transfer Function Results ---\n",
      "transfer_function            9.979641e-05\n",
      "output_impedance_at_v(out)   0.001995928\n",
      "vin#input_impedance          1e+20\n",
      "-----------------------------------------\n",
      "\n"
     ]
    },
    {
     "data": {
      "image/png": "[encoded data removed]",
      "text/plain": [
       "<Figure size 1600x800 with 1 Axes>"
      ]
     },
     "metadata": {},
     "output_type": "display_data"
    },
    {
     "name": "stdout",
     "output_type": "stream",
     "text": [
      "\n",
      "--- Part 2 calculations ---\n",
      "Open loop gain (DC audio susceptibility): 9.98e-05\n",
      "---------------------------\n",
      "\n"
     ]
    }
   ],
   "source": [
    "# Initialize\n",
    "paths_dict, netlists_dict, vectors_dict = initialize(config_file_decoding)\n",
    "\n",
    "# Simulate1: Operating Point and Transfer Function\n",
    "sim_results1, netlists_dict = simulate1(paths_dict, netlists_dict, vectors_dict)\n",
    "\n",
    "# Simulate2: Transient\n",
    "sim_results2, netlists_dict = simulate2(paths_dict, netlists_dict, vectors_dict)\n",
    "\n",
    "analyze_results(sim_results1, sim_results2, vectors_dict, paths_dict[Key.RESULTS_PATH])"
   ]
  }
 ],
 "metadata": {
  "kernelspec": {
   "display_name": "Python 3",
   "language": "python",
   "name": "python3"
  },
  "language_info": {
   "codemirror_mode": {
    "name": "ipython",
    "version": 3
   },
   "file_extension": ".py",
   "mimetype": "text/x-python",
   "name": "python",
   "nbconvert_exporter": "python",
   "pygments_lexer": "ipython3",
   "version": "3.12.2"
  }
 },
 "nbformat": 4,
 "nbformat_minor": 2
}
