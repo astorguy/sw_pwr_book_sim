{
 "cells": [
  {
   "cell_type": "code",
   "execution_count": 7,
   "metadata": {},
   "outputs": [],
   "source": [
    "from pathlib import Path\n",
    "import py4spice as spi"
   ]
  },
  {
   "cell_type": "code",
   "execution_count": 8,
   "metadata": {},
   "outputs": [],
   "source": [
    "# Path to my project\n",
    "PROJ_PATH = Path(\"/workspaces/sw_pwr_book_sim/circuits/simple_rc\")\n",
    "NETLISTS_PATH: Path = PROJ_PATH / \"netlists\""
   ]
  },
  {
   "cell_type": "code",
   "execution_count": 19,
   "metadata": {},
   "outputs": [
    {
     "name": "stdout",
     "output_type": "stream",
     "text": [
      "[['R1', 'N2', 'N2', '100'], ['R2', 'N2', '0', '200'], ['VIN', 'N1', '0', 'DC', '10']]\n"
     ]
    }
   ],
   "source": [
    "fred = spi.Netlist(NETLISTS_PATH / \"netlist_file_example.cir\")\n",
    "print(fred.data)"
   ]
  }
 ],
 "metadata": {
  "kernelspec": {
   "display_name": "Python 3",
   "language": "python",
   "name": "python3"
  },
  "language_info": {
   "codemirror_mode": {
    "name": "ipython",
    "version": 3
   },
   "file_extension": ".py",
   "mimetype": "text/x-python",
   "name": "python",
   "nbconvert_exporter": "python",
   "pygments_lexer": "ipython3",
   "version": "3.12.1"
  }
 },
 "nbformat": 4,
 "nbformat_minor": 2
}
