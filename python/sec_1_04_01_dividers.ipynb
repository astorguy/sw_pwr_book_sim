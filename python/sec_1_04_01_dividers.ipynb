{
 "cells": [
  {
   "cell_type": "markdown",
   "metadata": {},
   "source": []
  },
  {
   "cell_type": "markdown",
   "metadata": {},
   "source": [
    "#### Section 1.4.1 Voltage Dividers\n",
    "Taken from \"Switch-Mode Power Supplies\" by Christophe P. Basso"
   ]
  },
  {
   "cell_type": "markdown",
   "metadata": {},
   "source": [
    "#### Imports"
   ]
  },
  {
   "cell_type": "code",
   "execution_count": 26,
   "metadata": {},
   "outputs": [],
   "source": [
    "import os\n",
    "from pathlib import Path\n",
    "import copy\n",
    "from typing import TypeAlias\n",
    "import numpy as np\n",
    "import numpy.typing as npt\n",
    "import py4spice as spi\n",
    "from py4spice import globals_types"
   ]
  },
  {
   "cell_type": "markdown",
   "metadata": {},
   "source": [
    "#### Path to Ngspice and the project"
   ]
  },
  {
   "cell_type": "code",
   "execution_count": 27,
   "metadata": {},
   "outputs": [],
   "source": [
    "# Path to NGSPICE\n",
    "NGSPICE_EXE = Path(\"/usr/bin/ngspice\")\n",
    "\n",
    "# Path to my project\n",
    "PROJ_PATH = Path(\"/workspaces/sw_pwr_book_sim/circuits/sec_1_04_01_dividers\")"
   ]
  },
  {
   "cell_type": "markdown",
   "metadata": {},
   "source": [
    "#### Prepare simulation results directory"
   ]
  },
  {
   "cell_type": "code",
   "execution_count": 28,
   "metadata": {},
   "outputs": [],
   "source": [
    "# Create sim_results directory if doesn't exist\n",
    "RESULTS_PATH = PROJ_PATH / \"sim_results\"\n",
    "RESULTS_PATH.mkdir(parents=True, exist_ok=True)"
   ]
  },
  {
   "cell_type": "markdown",
   "metadata": {},
   "source": [
    "#### Netlists defining"
   ]
  },
  {
   "cell_type": "code",
   "execution_count": 29,
   "metadata": {},
   "outputs": [],
   "source": [
    "# Create netlists directory and files if they don't exist\n",
    "NETLISTS_PATH = PROJ_PATH / \"netlists\"\n",
    "NETLISTS_PATH.mkdir(parents=True, exist_ok=True)  # Create the directory\n",
    "\n",
    "# Create title.cir with content only if it doesn't exist\n",
    "TITLE_FILENAME = NETLISTS_PATH / \"title.cir\"\n",
    "if not TITLE_FILENAME.exists():\n",
    "    with open(TITLE_FILENAME, \"w\") as f:\n",
    "        f.write(\"* First line in netlist must be a comment\")\n",
    "title = spi.Netlist(NETLISTS_PATH / TITLE_FILENAME)\n",
    "\n",
    "# These netlist objects will be combined and a top netlist will be created later\n",
    "dut = spi.Netlist(NETLISTS_PATH / \"dut.cir\")\n",
    "load = spi.Netlist(NETLISTS_PATH / \"load.cir\")\n",
    "stimulus = spi.Netlist(NETLISTS_PATH / \"stimulus.cir\")\n",
    "supplies = spi.Netlist(NETLISTS_PATH / \"supplies.cir\")\n",
    "\n",
    "# these are two files the program will create later\n",
    "TOP_FILENAME = NETLISTS_PATH / \"top.cir\"\n",
    "CONTROL_FILENAME = NETLISTS_PATH / \"control.cir\""
   ]
  },
  {
   "cell_type": "markdown",
   "metadata": {},
   "source": [
    "Convert easyeda_dut.cir to dut.cir"
   ]
  },
  {
   "cell_type": "code",
   "execution_count": 30,
   "metadata": {},
   "outputs": [],
   "source": [
    "easyeda = spi.Netlist(NETLISTS_PATH / \"easyeda_dut.cir\")\n",
    "easyeda.del_line_starts_with(\"*\") # remove first line (comment)\n",
    "easyeda.del_line_starts_with(\"VEASYEDA\") # remove fake voltage source\n",
    "easyeda.del_line_starts_with(\".TRAN 1M 3.1415\") # remove fake transient analysis\n",
    "dut = easyeda\n",
    "dut.write_to_file(NETLISTS_PATH / \"dut.cir\") # this is now the dut (device under test)"
   ]
  },
  {
   "cell_type": "markdown",
   "metadata": {},
   "source": [
    "#### Create signal vectors"
   ]
  },
  {
   "cell_type": "code",
   "execution_count": 31,
   "metadata": {},
   "outputs": [],
   "source": [
    "VEC_ALL = spi.Vectors(\"ALL\")\n",
    "VEC_IN_OUT = spi.Vectors([\"IN\", \"OUT1\", \"OUT2\"])\n",
    "VEC_ALL_EXPANDED = spi.Vectors(\n",
    "    [\n",
    "        \"IN\",\n",
    "        \"OUT1\",\n",
    "        \"OUT1_MEAS\",\n",
    "        \"OUT2\",\n",
    "        \"OUT2_MEAS\",\n",
    "        \"VEE\",\n",
    "        \"VEE#BRANCH\",\n",
    "        \"VIN#BRANCH\",\n",
    "        \"VMEAS1#BRANCH\",\n",
    "        \"VMEAS2#BRANCH\",\n",
    "    ]\n",
    ")\n",
    "VEC_VIN = spi.Vectors(\"IN\")\n",
    "VEC_IIN = spi.Vectors(\"VIN#BRANCH\")\n",
    "VEC_VOUT1 = spi.Vectors(\"OUT1\")\n",
    "VEC_VOUT2 = spi.Vectors(\"OUT2\")\n",
    "VEC_IOUT1 = spi.Vectors(\"VMEAS1#BRANCH\")\n",
    "VEC_IOUT2 = spi.Vectors(\"VMEAS2#BRANCH\")"
   ]
  },
  {
   "cell_type": "markdown",
   "metadata": {},
   "source": [
    "#### Define analyses"
   ]
  },
  {
   "cell_type": "code",
   "execution_count": 32,
   "metadata": {},
   "outputs": [],
   "source": [
    "list_of_analyses: list[spi.Analyses] = []\n",
    "\n",
    "# 1st analysis: operating point\n",
    "op_cmd = \"op\"\n",
    "op1 = spi.Analyses(\"op1\", \"op\", op_cmd, VEC_ALL, RESULTS_PATH)\n",
    "list_of_analyses.append(op1)"
   ]
  },
  {
   "cell_type": "markdown",
   "metadata": {},
   "source": [
    "#### Create control section"
   ]
  },
  {
   "cell_type": "code",
   "execution_count": 33,
   "metadata": {},
   "outputs": [
    {
     "name": "stdout",
     "output_type": "stream",
     "text": [
      "\n",
      "--- Control File ---\n",
      ".control\n",
      "* Timestamp: Sat Feb 10 07:25:21 2024\n",
      "set wr_singlescale  $ makes one x-axis for wrdata\n",
      "set wr_vecnames     $ puts names at top of columns\n",
      "listing\n",
      "op\n",
      "print line ALL > /workspaces/sw_pwr_book_sim/circuits/sec_1_04_01_dividers/sim_results/op1.txt\n",
      "quit\n",
      ".endc\n",
      "--------------------\n",
      "\n"
     ]
    }
   ],
   "source": [
    "my_control = spi.Control()  # create 'my_control' object\n",
    "my_control.insert_lines([\"listing\"])  # cmd to list out netlist\n",
    "for analysis in list_of_analyses:  # statements for all analyses\n",
    "    my_control.insert_lines(analysis.lines_for_cntl())\n",
    "spi.print_section(\"Control File\", my_control)  # print out contents\n",
    "my_control.content_to_file(CONTROL_FILENAME)  # creat the actual file\n",
    "control = spi.Netlist(NETLISTS_PATH / CONTROL_FILENAME) # create netlist object"
   ]
  },
  {
   "cell_type": "markdown",
   "metadata": {},
   "source": [
    "#### Simulate"
   ]
  },
  {
   "cell_type": "code",
   "execution_count": null,
   "metadata": {},
   "outputs": [],
   "source": [
    "# Combine the netlists and write out into one top netlist, ready to simulate\n",
    "top = title + dut + load + supplies + stimulus + models + control\n",
    "\n",
    "top.write_to_file(TOP_FILENAME)\n",
    "spi.print_section(\"top netlist\", top)\n",
    "\n",
    "sim1 = spi.Simulate(NGSPICE_EXE, TOP_FILENAME)\n",
    "spi.print_section(\"Ngspice Command\", sim1)\n",
    "sim1.run()"
   ]
  },
  {
   "cell_type": "markdown",
   "metadata": {},
   "source": [
    "#### Simulation results to numpy"
   ]
  },
  {
   "cell_type": "code",
   "execution_count": null,
   "metadata": {},
   "outputs": [],
   "source": [
    "sim_results = [\n",
    "    spi.SimResults.from_file(analysis.cmd_type, analysis.results_filename)\n",
    "    for analysis in list_of_analyses\n",
    "]"
   ]
  },
  {
   "cell_type": "markdown",
   "metadata": {},
   "source": [
    "#### First simulation results: operating point"
   ]
  },
  {
   "cell_type": "code",
   "execution_count": null,
   "metadata": {},
   "outputs": [],
   "source": [
    "# 1st simulation was operating point\n",
    "spi.print_section(\"Operating Point Results\", sim_results[0].print_table())\n"
   ]
  },
  {
   "cell_type": "markdown",
   "metadata": {},
   "source": [
    "#### Second simulation results: transient"
   ]
  },
  {
   "cell_type": "code",
   "execution_count": null,
   "metadata": {},
   "outputs": [],
   "source": [
    "# x-axis and signals in list of numpys\n",
    "plot_data = sim_results[1].x_axis_and_sigs(VEC_INTEREST.list_out)\n",
    "\n",
    "# list of signals we want on plot\n",
    "y_names = VEC_INTEREST.list_out\n",
    "\n",
    "# Create plot with matplotlib\n",
    "plt_tr = spi.Plot(\"tr_plt\", plot_data, y_names, RESULTS_PATH)\n",
    "plt_tr.set_title(\"transient results\")\n",
    "plt_tr.define_axes((\"time\", \"sec\", \"linear\"), (\"voltage\", \"V\", \"linear\"))"
   ]
  }
 ],
 "metadata": {
  "kernelspec": {
   "display_name": "Python 3",
   "language": "python",
   "name": "python3"
  },
  "language_info": {
   "codemirror_mode": {
    "name": "ipython",
    "version": 3
   },
   "file_extension": ".py",
   "mimetype": "text/x-python",
   "name": "python",
   "nbconvert_exporter": "python",
   "pygments_lexer": "ipython3",
   "version": "3.12.1"
  }
 },
 "nbformat": 4,
 "nbformat_minor": 2
}
