{
 "cells": [
  {
   "cell_type": "markdown",
   "metadata": {},
   "source": [
    "#### Section 1.4.1 Voltage Dividers\n",
    "Taken from \"Switch-Mode Power Supplies\" by Christophe P. Basso"
   ]
  },
  {
   "cell_type": "markdown",
   "metadata": {},
   "source": [
    "#### Imports"
   ]
  },
  {
   "cell_type": "code",
   "execution_count": 1,
   "metadata": {},
   "outputs": [],
   "source": [
    "from pathlib import Path\n",
    "import py4spice as spi"
   ]
  },
  {
   "cell_type": "markdown",
   "metadata": {},
   "source": [
    "#### Path to Ngspice and the project"
   ]
  },
  {
   "cell_type": "code",
   "execution_count": 2,
   "metadata": {},
   "outputs": [],
   "source": [
    "# Path to NGSPICE\n",
    "NGSPICE_EXE = Path(\"/usr/bin/ngspice\")\n",
    "\n",
    "# Path to my project\n",
    "PROJ_PATH = Path(\"/workspaces/sw_pwr_book_sim/circuits/sec_1_04_01_dividers\")"
   ]
  },
  {
   "cell_type": "markdown",
   "metadata": {},
   "source": [
    "#### Prepare simulation results directory"
   ]
  },
  {
   "cell_type": "code",
   "execution_count": 3,
   "metadata": {},
   "outputs": [],
   "source": [
    "# Create sim_results directory if doesn't exist\n",
    "RESULTS_PATH = PROJ_PATH / \"sim_results\"\n",
    "RESULTS_PATH.mkdir(parents=True, exist_ok=True)"
   ]
  },
  {
   "cell_type": "markdown",
   "metadata": {},
   "source": [
    "#### Define netlists"
   ]
  },
  {
   "cell_type": "code",
   "execution_count": 4,
   "metadata": {},
   "outputs": [],
   "source": [
    "# Create netlists directory and files if they don't exist\n",
    "NETLISTS_PATH = PROJ_PATH / \"netlists\"\n",
    "NETLISTS_PATH.mkdir(parents=True, exist_ok=True)  # Create the directory\n",
    "\n",
    "# Create title.cir with content only if it doesn't exist\n",
    "TITLE_FILENAME = NETLISTS_PATH / \"title.cir\"\n",
    "if not TITLE_FILENAME.exists():\n",
    "    with open(TITLE_FILENAME, \"w\") as f:\n",
    "        f.write(\"* First line in netlist must be a comment\")\n",
    "title = spi.Netlist(NETLISTS_PATH / TITLE_FILENAME)\n",
    "\n",
    "# These netlist objects will be combined and a top netlist will be created later\n",
    "dut = spi.Netlist(NETLISTS_PATH / \"dut.cir\")\n",
    "load = spi.Netlist(NETLISTS_PATH / \"load.cir\")\n",
    "stimulus = spi.Netlist(NETLISTS_PATH / \"stimulus.cir\")\n",
    "supplies = spi.Netlist(NETLISTS_PATH / \"supplies.cir\")\n",
    "\n",
    "# these are two files the program will create later\n",
    "TOP_FILENAME = NETLISTS_PATH / \"top.cir\"\n",
    "CONTROL_FILENAME = NETLISTS_PATH / \"control.cir\""
   ]
  },
  {
   "cell_type": "markdown",
   "metadata": {},
   "source": [
    "Convert easyeda_dut.cir to dut.cir"
   ]
  },
  {
   "cell_type": "code",
   "execution_count": 5,
   "metadata": {},
   "outputs": [],
   "source": [
    "easyeda = spi.Netlist(NETLISTS_PATH / \"easyeda_dut.cir\")\n",
    "easyeda.del_line_starts_with(\"*\") # remove first line (comment)\n",
    "easyeda.del_line_starts_with(\"veasyeda\") # remove fake voltage source\n",
    "easyeda.del_line_starts_with(\".tran 1m 3.1415\") # remove fake transient analysis\n",
    "dut = easyeda\n",
    "dut.write_to_file(NETLISTS_PATH / \"dut.cir\") # this is now the dut (device under test)"
   ]
  },
  {
   "cell_type": "markdown",
   "metadata": {},
   "source": [
    "#### Create signal vectors"
   ]
  },
  {
   "cell_type": "code",
   "execution_count": 6,
   "metadata": {},
   "outputs": [
    {
     "name": "stdout",
     "output_type": "stream",
     "text": [
      "in out1 out2\n"
     ]
    }
   ],
   "source": [
    "VEC_ALL = spi.Vectors(\"all\")\n",
    "VEC_ALL_EXPANDED = spi.Vectors(\"in out1 out2 vee\")\n",
    "VEC_VIN = spi.Vectors(\"in\")\n",
    "VEC_VOUT1 = spi.Vectors(\"out1\")\n",
    "VEC_VOUT2 = spi.Vectors(\"out2\")\n",
    "VEC_IN_OUT = VEC_VIN + VEC_VOUT1 + VEC_VOUT2\n",
    "print(VEC_IN_OUT)"
   ]
  },
  {
   "cell_type": "markdown",
   "metadata": {},
   "source": [
    "#### Define analyses"
   ]
  },
  {
   "cell_type": "code",
   "execution_count": 7,
   "metadata": {},
   "outputs": [],
   "source": [
    "list_of_analyses: list[spi.Analyses] = [] # create empty list. Next sections define\n",
    "\n",
    "# 1st analysis: operating point\n",
    "# for this simulation, we'll have only one analysis\n",
    "op_cmd = \"op\"\n",
    "op1 = spi.Analyses(\"op1\", \"op\", op_cmd, VEC_ALL, RESULTS_PATH)\n",
    "list_of_analyses.append(op1)"
   ]
  },
  {
   "cell_type": "markdown",
   "metadata": {},
   "source": [
    "#### Create control section"
   ]
  },
  {
   "cell_type": "code",
   "execution_count": 8,
   "metadata": {},
   "outputs": [
    {
     "name": "stdout",
     "output_type": "stream",
     "text": [
      "\n",
      "--- Control File ---\n",
      ".control\n",
      "* Timestamp: Sun Feb 11 01:17:40 2024\n",
      "set wr_singlescale  $ makes one x-axis for wrdata\n",
      "set wr_vecnames     $ puts names at top of columns\n",
      "listing\n",
      "op\n",
      "print line all > /workspaces/sw_pwr_book_sim/circuits/sec_1_04_01_dividers/sim_results/op1.txt\n",
      "quit\n",
      ".endc\n",
      "--------------------\n",
      "\n"
     ]
    }
   ],
   "source": [
    "my_control = spi.Control()  # create 'my_control' object\n",
    "my_control.insert_lines([\"listing\"])  # cmd to list out netlist\n",
    "for analysis in list_of_analyses:  # statements for all analyses\n",
    "    my_control.insert_lines(analysis.lines_for_cntl())\n",
    "spi.print_section(\"Control File\", my_control)  # print out contents\n",
    "my_control.content_to_file(CONTROL_FILENAME)  # creat the actual file\n",
    "control = spi.Netlist(NETLISTS_PATH / CONTROL_FILENAME) # create netlist object"
   ]
  },
  {
   "cell_type": "markdown",
   "metadata": {},
   "source": [
    "#### Simulate"
   ]
  },
  {
   "cell_type": "code",
   "execution_count": 9,
   "metadata": {},
   "outputs": [
    {
     "name": "stdout",
     "output_type": "stream",
     "text": [
      "\n",
      "--- top netlist ---\n",
      "* two voltage dividers\n",
      "r1 in out1 140\n",
      "r2 in out2 132\n",
      "rload1 out1 vee 100\n",
      "rload2 out2 vee 50\n",
      "vee vee 0 0\n",
      "vin in 0 12\n",
      ".control\n",
      "* timestamp: sun feb 11 01:17:40 2024\n",
      "set wr_singlescale  $ makes one x-axis for wrdata\n",
      "set wr_vecnames     $ puts names at top of columns\n",
      "listing\n",
      "op\n",
      "print line all > /workspaces/sw_pwr_book_sim/circuits/sec_1_04_01_dividers/sim_results/op1.txt\n",
      "quit\n",
      ".endc\n",
      "-------------------\n",
      "\n",
      "\n",
      "--- Ngspice Command ---\n",
      "/usr/bin/ngspice -b /workspaces/sw_pwr_book_sim/circuits/sec_1_04_01_dividers/netlists/top.cir\n",
      "-----------------------\n",
      "\n",
      "\n",
      "Note: No compatibility mode selected!\n",
      "\n",
      "\n",
      "Circuit: * two voltage dividers\n",
      "\n",
      "\t* two voltage dividers\n",
      "\n",
      "     2 : .global gnd\n",
      "     3 : r1 in out1 140\n",
      "     4 : r2 in out2 132\n",
      "     5 : rload1 out1 vee 100\n",
      "     6 : rload2 out2 vee 50\n",
      "     7 : vee vee 0 0\n",
      "     8 : vin in 0 12\n",
      "     9 : .control\n",
      "    11 : set wr_singlescale\n",
      "    12 : set wr_vecnames\n",
      "    13 : listing\n",
      "    14 : op\n",
      "    15 : print line all > /workspaces/sw_pwr_book_sim/circuits/sec_1_04_01_dividers/sim_results/op1.txt\n",
      "    16 : quit\n",
      "    17 : .endc\n",
      "    18 : .end\n",
      "Doing analysis at TEMP = 27.000000 and TNOM = 27.000000\n",
      "\n",
      "\n",
      "No. of Data Rows : 1\n",
      "ngspice-39 done\n"
     ]
    }
   ],
   "source": [
    "# Combine the netlists and write out into one top netlist, ready to simulate\n",
    "top = title + dut + load + supplies + stimulus + control\n",
    "\n",
    "top.write_to_file(TOP_FILENAME)\n",
    "spi.print_section(\"top netlist\", top)\n",
    "\n",
    "# prepare simulate object, print out command, and simulate\n",
    "sim1 = spi.Simulate(NGSPICE_EXE, TOP_FILENAME)\n",
    "spi.print_section(\"Ngspice Command\", sim1)\n",
    "sim1.run() # run the Ngspice simulation"
   ]
  },
  {
   "cell_type": "markdown",
   "metadata": {},
   "source": [
    "#### Gather simulation results and transform into more usable format"
   ]
  },
  {
   "cell_type": "code",
   "execution_count": 14,
   "metadata": {},
   "outputs": [
    {
     "name": "stdout",
     "output_type": "stream",
     "text": [
      "['in', 'out1', 'out2']\n"
     ]
    }
   ],
   "source": [
    "# Path and name of result file\n",
    "RESULTS_FILENAME = RESULTS_PATH / f\"{list_of_analyses[0].name}.txt\"\n",
    "\n",
    "op1_signals = spi.Signals.from_spice_table(RESULTS_FILENAME) # create signals object\n",
    "op1_values = op1_signals.signals_table([\"in\", \"out1\", \"out2\"])\n",
    "print(VEC_IN_OUT.list_out())\n",
    "# print(VEC_ALL_EXPANDED.list_out)\n"
   ]
  },
  {
   "cell_type": "markdown",
   "metadata": {},
   "source": []
  }
 ],
 "metadata": {
  "kernelspec": {
   "display_name": "Python 3",
   "language": "python",
   "name": "python3"
  },
  "language_info": {
   "codemirror_mode": {
    "name": "ipython",
    "version": 3
   },
   "file_extension": ".py",
   "mimetype": "text/x-python",
   "name": "python",
   "nbconvert_exporter": "python",
   "pygments_lexer": "ipython3",
   "version": "3.12.1"
  }
 },
 "nbformat": 4,
 "nbformat_minor": 2
}
