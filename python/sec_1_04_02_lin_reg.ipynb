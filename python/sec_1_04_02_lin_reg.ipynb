{
 "cells": [
  {
   "cell_type": "markdown",
   "metadata": {},
   "source": [
    "#### Section 1.4.1 Voltage Dividers\n",
    "Taken from \"Switch-Mode Power Supplies\" by Christophe P. Basso"
   ]
  },
  {
   "cell_type": "markdown",
   "metadata": {},
   "source": [
    "#### Imports"
   ]
  },
  {
   "cell_type": "code",
   "execution_count": 69,
   "metadata": {},
   "outputs": [],
   "source": [
    "from pathlib import Path\n",
    "import py4spice as spi"
   ]
  },
  {
   "cell_type": "markdown",
   "metadata": {},
   "source": [
    "#### Path to Ngspice and the project"
   ]
  },
  {
   "cell_type": "code",
   "execution_count": 70,
   "metadata": {},
   "outputs": [],
   "source": [
    "# Path to NGSPICE\n",
    "NGSPICE_EXE = Path(\"/usr/bin/ngspice\")\n",
    "\n",
    "# Absolute path to my project\n",
    "PROJ_PATH_ABS = Path(\"/workspaces/sw_pwr_book_sim/circuits/sec_1_04_02_lin_reg\")"
   ]
  },
  {
   "cell_type": "markdown",
   "metadata": {},
   "source": [
    "#### Prepare other paths"
   ]
  },
  {
   "cell_type": "code",
   "execution_count": 71,
   "metadata": {},
   "outputs": [],
   "source": [
    "# Create sim_results directory if doesn't exist\n",
    "RESULTS_PATH = PROJ_PATH / \"sim_results\"\n",
    "RESULTS_PATH.mkdir(parents=True, exist_ok=True)"
   ]
  },
  {
   "cell_type": "markdown",
   "metadata": {},
   "source": [
    "#### Define netlists"
   ]
  },
  {
   "cell_type": "code",
   "execution_count": 73,
   "metadata": {},
   "outputs": [],
   "source": [
    "# Create netlists directory and files if they don't exist\n",
    "NETLISTS_PATH = PROJ_PATH_ABS / \"netlists\"\n",
    "NETLISTS_PATH.mkdir(parents=True, exist_ok=True)  # Create the directory\n",
    "\n",
    "# Create title.cir with content only if it doesn't exist\n",
    "TITLE_FILENAME = NETLISTS_PATH / \"title.cir\"\n",
    "if not TITLE_FILENAME.exists():\n",
    "    with open(TITLE_FILENAME, \"w\") as f:\n",
    "        f.write(\"* First line in netlist must be a comment\")\n",
    "title = spi.Netlist(NETLISTS_PATH / TITLE_FILENAME)\n",
    "\n",
    "# These netlist objects will be combined and a top netlist will be created later\n",
    "dut = spi.Netlist(NETLISTS_PATH / \"dut.cir\")\n",
    "load = spi.Netlist(NETLISTS_PATH / \"load.cir\")\n",
    "stimulus = spi.Netlist(NETLISTS_PATH / \"stimulus.cir\")\n",
    "supplies = spi.Netlist(NETLISTS_PATH / \"supplies.cir\")\n",
    "models = spi.Netlist(NETLISTS_PATH / \"models.cir\")\n",
    "\n",
    "# two files we'll create later\n",
    "TOP_FILENAME = NETLISTS_PATH / \"top.cir\"\n",
    "CONTROL_FILENAME = NETLISTS_PATH / \"control.cir\""
   ]
  },
  {
   "cell_type": "markdown",
   "metadata": {},
   "source": [
    "Convert easyeda_dut.cir to dut.cir"
   ]
  },
  {
   "cell_type": "code",
   "execution_count": 74,
   "metadata": {},
   "outputs": [],
   "source": [
    "easyeda = spi.Netlist(NETLISTS_PATH / \"easyeda_dut.cir\")\n",
    "easyeda.del_line_starts_with(\"*\") # remove first line (comment)\n",
    "easyeda.del_line_starts_with(\"veasyeda\") # remove fake voltage source\n",
    "easyeda.del_line_starts_with(\".tran 1m 3.1415\") # remove fake transient analysis\n",
    "easyeda.del_line_starts_with(\".inc standard.bjt\") # remove model include\n",
    "dut = easyeda\n",
    "dut.write_to_file(NETLISTS_PATH / \"dut.cir\") # this is now the dut (device under test)"
   ]
  },
  {
   "cell_type": "markdown",
   "metadata": {},
   "source": [
    "#### Create vectors"
   ]
  },
  {
   "cell_type": "code",
   "execution_count": 75,
   "metadata": {},
   "outputs": [],
   "source": [
    "VEC_ALL = spi.Vectors(\"all\")\n",
    "VEC_ALL_EXPANDED = spi.Vectors(\n",
    "    \"q1_base div e1#branch in out out_meas vee vee#branch vin#branch vmeas#branch ref vref#branch\"\n",
    ")\n",
    "VEC_OUT = spi.Vectors(\"out\")\n",
    "VEC_IN_OUT = spi.Vectors(\"in out\")\n",
    "VEC_INTEREST = spi.Vectors(\"in out div q1_base\")\n",
    "VEC_POWER_CALC = spi.Vectors(\"in vin#branch out vmeas#branch\")\n",
    "VEC_ETA = spi.Vectors(\"eta\")"
   ]
  },
  {
   "cell_type": "markdown",
   "metadata": {},
   "source": [
    "#### Define analyses"
   ]
  },
  {
   "cell_type": "code",
   "execution_count": 76,
   "metadata": {},
   "outputs": [],
   "source": [
    "list_of_analyses: list[spi.Analyses] = [] # create empty list. Next sections define\n",
    "\n",
    "# 1st analysis: operating point\n",
    "# for this simulation, we'll have only one analysis\n",
    "op_cmd = \"op\"\n",
    "op1 = spi.Analyses(\"op1\", \"op\", op_cmd, VEC_ALL, RESULTS_PATH)\n",
    "list_of_analyses.append(op1)\n",
    "\n",
    "# 2nd analysis\n",
    "dc_cmd = \"dc vin 6 17 0.1\"\n",
    "dc1 = spi.Analyses(\"dc1\", \"dc\", dc_cmd, VEC_ALL, RESULTS_PATH)\n",
    "list_of_analyses.append(dc1)"
   ]
  },
  {
   "cell_type": "markdown",
   "metadata": {},
   "source": [
    "#### Create control section"
   ]
  },
  {
   "cell_type": "code",
   "execution_count": 77,
   "metadata": {},
   "outputs": [
    {
     "name": "stdout",
     "output_type": "stream",
     "text": [
      "\n",
      "--- Control File ---\n",
      ".control\n",
      "* Timestamp: Sun Feb 11 05:10:45 2024\n",
      "set wr_singlescale  $ makes one x-axis for wrdata\n",
      "set wr_vecnames     $ puts names at top of columns\n",
      "listing\n",
      "op\n",
      "print line all > /workspaces/sw_pwr_book_sim/circuits/sec_1_04_02_lin_reg/sim_results/op1.txt\n",
      "dc vin 6 17 0.1\n",
      "wrdata /workspaces/sw_pwr_book_sim/circuits/sec_1_04_02_lin_reg/sim_results/dc1.txt all\n",
      "quit\n",
      ".endc\n",
      "--------------------\n",
      "\n"
     ]
    }
   ],
   "source": [
    "my_control = spi.Control()  # create 'my_control' object\n",
    "my_control.insert_lines([\"listing\"])  # cmd to list out netlist\n",
    "for analysis in list_of_analyses:  # statements for all analyses\n",
    "    my_control.insert_lines(analysis.lines_for_cntl())\n",
    "my_control.content_to_file(CONTROL_FILENAME)  # creat the actual file\n",
    "control = spi.Netlist(NETLISTS_PATH / CONTROL_FILENAME)  # create netlist object\n",
    "spi.print_section(\"Control File\", my_control)  # print out contents"
   ]
  },
  {
   "cell_type": "markdown",
   "metadata": {},
   "source": [
    "#### Simulate"
   ]
  },
  {
   "cell_type": "code",
   "execution_count": 78,
   "metadata": {},
   "outputs": [
    {
     "name": "stdout",
     "output_type": "stream",
     "text": [
      "\n",
      "--- top netlist ---\n",
      "* linear regulator\n",
      "rupper div out 10k\n",
      "rlower vee div 10k\n",
      "e1 q1_base vee ref div 10k\n",
      "q1 out q1_base in 2n2222\n",
      "\n",
      "rload out out_meas 100\n",
      "vmeas out_meas 0 dc 0\n",
      "vee vee 0 dc 0\n",
      "vref ref 0 dc 2.5\n",
      "vin in 0 dc 12\n",
      ".model 2n2222 npn bf=105 br=4 cjc=12.2p cje=35.5p ikf=.5\n",
      "+ ikr=.225 is=15.2f ise=8.2p ne=2 nf=1 nr=1 rb=1.49 rc=.149\n",
      "+ re=.373 tf=500p tr=85n vaf=98.5 var=20 xtb=1.5\n",
      ".control\n",
      "* timestamp: sun feb 11 05:10:45 2024\n",
      "set wr_singlescale  $ makes one x-axis for wrdata\n",
      "set wr_vecnames     $ puts names at top of columns\n",
      "listing\n",
      "op\n",
      "print line all > /workspaces/sw_pwr_book_sim/circuits/sec_1_04_02_lin_reg/sim_results/op1.txt\n",
      "dc vin 6 17 0.1\n",
      "wrdata /workspaces/sw_pwr_book_sim/circuits/sec_1_04_02_lin_reg/sim_results/dc1.txt all\n",
      "quit\n",
      ".endc\n",
      "-------------------\n",
      "\n",
      "\n",
      "--- Ngspice Command ---\n",
      "/usr/bin/ngspice -b /workspaces/sw_pwr_book_sim/circuits/sec_1_04_02_lin_reg/netlists/top.cir\n",
      "-----------------------\n",
      "\n",
      "\n",
      "Note: No compatibility mode selected!\n",
      "\n",
      "\n",
      "Circuit: * linear regulator\n",
      "\n",
      "\t* linear regulator\n",
      "\n",
      "     2 : .global gnd\n",
      "     3 : rupper div out 10k\n",
      "     4 : rlower vee div 10k\n",
      "     5 : e1 q1_base vee ref div 10k\n",
      "     6 : q1 out q1_base in 2n2222\n",
      "     7 : rload out out_meas 100\n",
      "     8 : vmeas out_meas 0 dc 0\n",
      "     9 : vee vee 0 dc 0\n",
      "    10 : vref ref 0 dc 2.5\n",
      "    11 : vin in 0 dc 12\n",
      "    12 : .model 2n2222 npn bf=105 br=4 cjc=12.2p cje=35.5p ikf=.5 ikr=.225 is=15.2f ise=8.2p ne=2 nf=1 nr=1 rb=1.49 rc=.149 re=.373 tf=500p tr=85n vaf=98.5 var=20 xtb=1.5\n",
      "    13 : .control\n",
      "    15 : set wr_singlescale\n",
      "    16 : set wr_vecnames\n",
      "    17 : listing\n",
      "    18 : op\n",
      "    19 : print line all > /workspaces/sw_pwr_book_sim/circuits/sec_1_04_02_lin_reg/sim_results/op1.txt\n",
      "    20 : dc vin 6 17 0.1\n",
      "    21 : wrdata /workspaces/sw_pwr_book_sim/circuits/sec_1_04_02_lin_reg/sim_results/dc1.txt all\n",
      "    22 : quit\n",
      "    23 : .endc\n",
      "    24 : .end\n",
      "Doing analysis at TEMP = 27.000000 and TNOM = 27.000000\n",
      "\n",
      "\n",
      "No. of Data Rows : 1\n",
      "Doing analysis at TEMP = 27.000000 and TNOM = 27.000000\n",
      "\n",
      "\n",
      "No. of Data Rows : 111\n",
      "ngspice-39 done\n"
     ]
    },
    {
     "name": "stderr",
     "output_type": "stream",
     "text": [
      "Note: Starting dynamic gmin stepping\n",
      "Trying gmin =   1.0000E-03 Note: One successful gmin step\n",
      "Trying gmin =   1.0000E-04 Note: One successful gmin step\n",
      "Trying gmin =   1.0000E-05 Note: One successful gmin step\n",
      "Trying gmin =   1.0000E-06 Note: One successful gmin step\n",
      "Trying gmin =   1.0000E-07 Note: One successful gmin step\n",
      "Trying gmin =   1.0000E-08 Note: One successful gmin step\n",
      "Trying gmin =   1.0000E-09 Note: One successful gmin step\n",
      "Trying gmin =   1.0000E-10 Note: One successful gmin step\n",
      "Trying gmin =   1.0000E-11 Note: One successful gmin step\n",
      "Trying gmin =   1.0000E-12 Note: One successful gmin step\n",
      "Trying gmin =   1.0000E-12 Note: One successful gmin step\n",
      "Note: Dynamic gmin stepping completed\n"
     ]
    }
   ],
   "source": [
    "# Combine the netlists and write out into one top netlist, ready to simulate\n",
    "top = title + dut + load + supplies + stimulus + models + control\n",
    "\n",
    "top.write_to_file(TOP_FILENAME)\n",
    "spi.print_section(\"top netlist\", top)\n",
    "\n",
    "# prepare simulate object, print out command, and simulate\n",
    "sim1 = spi.Simulate(NGSPICE_EXE, TOP_FILENAME)\n",
    "spi.print_section(\"Ngspice Command\", sim1)\n",
    "sim1.run() # run the Ngspice simulation"
   ]
  },
  {
   "cell_type": "markdown",
   "metadata": {},
   "source": [
    "#### Gather simulation results and transform into more usable format"
   ]
  },
  {
   "cell_type": "code",
   "execution_count": 79,
   "metadata": {},
   "outputs": [],
   "source": [
    "# Path and name of result file\n",
    "RESULTS_FILENAME_0 = RESULTS_PATH / f\"{list_of_analyses[0].name}.txt\"\n",
    "RESULTS_FILENAME_1 = RESULTS_PATH / f\"{list_of_analyses[1].name}.txt\"\n",
    "\n",
    "op1_signals = spi.Signals.from_spice_table(RESULTS_FILENAME_0) # create signals object\n",
    "dc1_signals = spi.Signals.from_spice_plot(RESULTS_FILENAME_1) # create signals object"
   ]
  },
  {
   "cell_type": "markdown",
   "metadata": {},
   "source": [
    "#### Operation point values from op1 analysis"
   ]
  },
  {
   "cell_type": "code",
   "execution_count": 80,
   "metadata": {},
   "outputs": [
    {
     "name": "stdout",
     "output_type": "stream",
     "text": [
      "\n",
      "--- Operating Point Results ---\n",
      "Signal values for x = 0\n",
      "         out:  4.99885\n",
      "   e1#branch: -0.00901033\n",
      "          in:  12\n",
      "    out_meas:  0\n",
      "         div:  2.49942\n",
      " vref#branch:  0\n",
      "  vin#branch: -0.0412281\n",
      "vmeas#branch:  0.0499885\n",
      "         ref:  2.5\n",
      "         vee:  0\n",
      "  vee#branch: -0.00876038\n",
      "     q1_base:  5.75676\n",
      "-------------------------------\n",
      "\n"
     ]
    }
   ],
   "source": [
    "op1_values = op1_signals.signals_table(VEC_ALL_EXPANDED.list_out())\n",
    "spi.print_section(\"Operating Point Results\", op1_values)"
   ]
  },
  {
   "cell_type": "markdown",
   "metadata": {},
   "source": [
    "#### Results from DC transfer analysis"
   ]
  },
  {
   "cell_type": "code",
   "execution_count": null,
   "metadata": {},
   "outputs": [],
   "source": [
    "plot_data = dc1_signals.x_axis_and_sigs(VEC_OUT.list_out())\n",
    "y_names = VEC_OUT.list_out()\n",
    "# print(plot_data[0])\n",
    "# print(\"\")\n",
    "# print(plot_data[1])\n",
    "\n",
    "my_plt = spi.Plot(\"my_plot\", plot_data, y_names, RESULTS_PATH_REL)\n",
    "\n",
    "# spi.display_plots()"
   ]
  },
  {
   "cell_type": "markdown",
   "metadata": {},
   "source": []
  }
 ],
 "metadata": {
  "kernelspec": {
   "display_name": "Python 3",
   "language": "python",
   "name": "python3"
  },
  "language_info": {
   "codemirror_mode": {
    "name": "ipython",
    "version": 3
   },
   "file_extension": ".py",
   "mimetype": "text/x-python",
   "name": "python",
   "nbconvert_exporter": "python",
   "pygments_lexer": "ipython3",
   "version": "3.12.1"
  }
 },
 "nbformat": 4,
 "nbformat_minor": 2
}
