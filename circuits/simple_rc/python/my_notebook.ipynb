{
 "cells": [
  {
   "cell_type": "markdown",
   "metadata": {},
   "source": [
    "#### Imports"
   ]
  },
  {
   "cell_type": "code",
   "execution_count": 1,
   "metadata": {},
   "outputs": [],
   "source": [
    "import os\n",
    "from pathlib import Path\n",
    "import copy\n",
    "from typing import TypeAlias\n",
    "import numpy as np\n",
    "import numpy.typing as npt\n",
    "import py4spice as spi\n",
    "from py4spice import globals_types"
   ]
  },
  {
   "cell_type": "markdown",
   "metadata": {},
   "source": [
    "#### Constants and directories"
   ]
  },
  {
   "cell_type": "code",
   "execution_count": 2,
   "metadata": {},
   "outputs": [],
   "source": [
    "# Path to NGSPICE\n",
    "NGSPICE_EXE = Path(\"/usr/bin/ngspice\")\n",
    "\n",
    "# Path to my project\n",
    "PROJ_PATH = Path(\"/workspaces/sw_pwr_03/circuits/simple_rc\")\n",
    "\n",
    "# where to put results\n",
    "RESULTS_PATH = PROJ_PATH / \"sim_results\"\n",
    "\n",
    "# netlist filenames\n",
    "NETLISTS_PATH = PROJ_PATH / \"netlists\"\n",
    "TOP_FILENAME = NETLISTS_PATH / \"top.cir\"\n",
    "TITLE_FILENAME = NETLISTS_PATH / \"title.cir\"\n",
    "DUT_FILENAME = NETLISTS_PATH / \"dut.cir\"\n",
    "LOAD_FILENAME = NETLISTS_PATH / \"load.cir\"\n",
    "STIMULUS_FILENAME = NETLISTS_PATH / \"stimulus.cir\"\n",
    "SUPPLIES_FILENAME = NETLISTS_PATH / \"supplies.cir\"\n",
    "CONTROL_FILENAME = NETLISTS_PATH / \"control.cir\""
   ]
  },
  {
   "cell_type": "markdown",
   "metadata": {},
   "source": [
    "#### Create netlists objects. We'll combine them after \"control\" netlist is constructed."
   ]
  },
  {
   "cell_type": "code",
   "execution_count": 3,
   "metadata": {},
   "outputs": [],
   "source": [
    "title = spi.Netlist(NETLISTS_PATH / TITLE_FILENAME)\n",
    "dut = spi.Netlist(NETLISTS_PATH / DUT_FILENAME)\n",
    "load = spi.Netlist(NETLISTS_PATH / LOAD_FILENAME)\n",
    "supplies = spi.Netlist(NETLISTS_PATH / SUPPLIES_FILENAME)\n",
    "stimulus = spi.Netlist(NETLISTS_PATH / STIMULUS_FILENAME)"
   ]
  },
  {
   "cell_type": "markdown",
   "metadata": {},
   "source": [
    "#### Create signal vectors"
   ]
  },
  {
   "cell_type": "code",
   "execution_count": 4,
   "metadata": {},
   "outputs": [],
   "source": [
    "VEC_INTEREST = spi.Vectors(\"in mid\")"
   ]
  },
  {
   "cell_type": "markdown",
   "metadata": {},
   "source": [
    "#### Define analyses"
   ]
  },
  {
   "cell_type": "code",
   "execution_count": 5,
   "metadata": {},
   "outputs": [],
   "source": [
    "list_of_analyses: list[spi.Analyses] = []\n",
    "\n",
    "# 1st analysis: operating point\n",
    "op_cmd = \"op\"\n",
    "op1 = spi.Analyses(\"op1\", \"op\", op_cmd, VEC_INTEREST, RESULTS_PATH)\n",
    "list_of_analyses.append(op1)\n",
    "\n",
    "# 2nd analysis: transient with time-end = 20m\n",
    "tr_cmd = \"tran 1e-3 20e-3\"\n",
    "tr1 = spi.Analyses(\"tr1\", \"tran\", tr_cmd, VEC_INTEREST, RESULTS_PATH)\n",
    "list_of_analyses.append(tr1)"
   ]
  },
  {
   "cell_type": "markdown",
   "metadata": {},
   "source": [
    "#### Create control section"
   ]
  },
  {
   "cell_type": "code",
   "execution_count": 6,
   "metadata": {},
   "outputs": [
    {
     "name": "stdout",
     "output_type": "stream",
     "text": [
      "\n",
      "--- Control File ---\n",
      ".control\n",
      "* Timestamp: Fri Feb  2 21:12:48 2024\n",
      "set wr_singlescale  $ makes one x-axis for wrdata\n",
      "set wr_vecnames     $ puts names at top of columns\n",
      "listing\n",
      "op\n",
      "print line in mid > /workspaces/sw_pwr_03/circuits/simple_rc/sim_results/op1.txt\n",
      "tran 1e-3 20e-3\n",
      "wrdata /workspaces/sw_pwr_03/circuits/simple_rc/sim_results/tr1.txt in mid\n",
      "quit\n",
      ".endc\n",
      "--------------------\n",
      "\n"
     ]
    }
   ],
   "source": [
    "my_control = spi.Control()  # create 'my_control' object\n",
    "my_control.insert_lines([\"listing\"])  # cmd to list out netlist\n",
    "for analysis in list_of_analyses:  # statements for all analyses\n",
    "    my_control.insert_lines(analysis.lines_for_cntl())\n",
    "spi.print_section(\"Control File\", my_control)  # print out contents\n",
    "my_control.content_to_file(CONTROL_FILENAME)  # creat the actual file\n",
    "control = spi.Netlist(NETLISTS_PATH / CONTROL_FILENAME)"
   ]
  },
  {
   "cell_type": "markdown",
   "metadata": {},
   "source": [
    "#### Simulate"
   ]
  },
  {
   "cell_type": "code",
   "execution_count": 7,
   "metadata": {},
   "outputs": [
    {
     "name": "stdout",
     "output_type": "stream",
     "text": [
      "\n",
      "--- top netlist ---\n",
      "* A simple rc circuit\n",
      "R1 IN MID 47K\n",
      "C1 COM MID 0.1U\n",
      "R2 MID OUT 100\n",
      "RLOAD OUT 0 100K\n",
      "VCOM COM 0 0\n",
      "* PULSE (V1 V2 TD TR TF PW PER NP)\n",
      "VIN IN 0 PULSE (0 10 0 3N 3N 100M)\n",
      ".control\n",
      "* Timestamp: Fri Feb 2 21:12:48 2024\n",
      "set wr_singlescale $ makes one x-axis for wrdata\n",
      "set wr_vecnames $ puts names at top of columns\n",
      "listing\n",
      "op\n",
      "print line in mid > /workspaces/sw_pwr_03/circuits/simple_rc/sim_results/op1.txt\n",
      "tran 1e-3 20e-3\n",
      "wrdata /workspaces/sw_pwr_03/circuits/simple_rc/sim_results/tr1.txt in mid\n",
      "quit\n",
      ".endc\n",
      "-------------------\n",
      "\n",
      "\n",
      "--- Ngspice Command ---\n",
      "/usr/bin/ngspice -b /workspaces/sw_pwr_03/circuits/simple_rc/netlists/top.cir\n",
      "-----------------------\n",
      "\n",
      "\n",
      "Note: No compatibility mode selected!\n",
      "\n",
      "\n",
      "Circuit: * a simple rc circuit\n",
      "\n",
      "\t* a simple rc circuit\n",
      "\n",
      "     2 : .global gnd\n",
      "     3 : r1 in mid 47k\n",
      "     4 : c1 com mid 0.1u\n",
      "     5 : r2 mid out 100\n",
      "     6 : rload out 0 100k\n",
      "     7 : vcom com 0 0\n",
      "     9 : vin in 0 pulse (0 10 0 3n 3n 100m)\n",
      "    10 : .control\n",
      "    12 : set wr_singlescale\n",
      "    13 : set wr_vecnames\n",
      "    14 : listing\n",
      "    15 : op\n",
      "    16 : print line in mid > /workspaces/sw_pwr_03/circuits/simple_rc/sim_results/op1.txt\n",
      "    17 : tran 1e-3 20e-3\n",
      "    18 : wrdata /workspaces/sw_pwr_03/circuits/simple_rc/sim_results/tr1.txt in mid\n",
      "    19 : quit\n",
      "    20 : .endc\n",
      "    21 : .end\n",
      "Doing analysis at TEMP = 27.000000 and TNOM = 27.000000\n",
      "\n",
      "\n",
      "No. of Data Rows : 1\n",
      "Doing analysis at TEMP = 27.000000 and TNOM = 27.000000\n",
      "\n",
      "\n",
      "Initial Transient Solution\n",
      "--------------------------\n",
      "\n",
      "Node                                   Voltage\n",
      "----                                   -------\n",
      "in                                           0\n",
      "mid                                          0\n",
      "com                                          0\n",
      "out                                          0\n",
      "vin#branch                                   0\n",
      "vcom#branch                                  0\n",
      "\n",
      "\n",
      "No. of Data Rows : 79\n",
      "ngspice-39 done\n"
     ]
    }
   ],
   "source": [
    "# Combine the netlists and write out into one top netlist, ready to simulate\n",
    "top = title + dut + load + supplies + stimulus + control\n",
    "top.writefile(TOP_FILENAME)\n",
    "spi.print_section(\"top netlist\", top)\n",
    "\n",
    "sim1 = spi.Simulate(NGSPICE_EXE, TOP_FILENAME)\n",
    "spi.print_section(\"Ngspice Command\", sim1)\n",
    "sim1.run()"
   ]
  },
  {
   "cell_type": "markdown",
   "metadata": {},
   "source": [
    "#### Simulation results to numpy"
   ]
  },
  {
   "cell_type": "code",
   "execution_count": 8,
   "metadata": {},
   "outputs": [
    {
     "name": "stdout",
     "output_type": "stream",
     "text": [
      "dup indexes are: []\n"
     ]
    }
   ],
   "source": [
    "sim_results = [\n",
    "    spi.SimResults.from_file(analysis.cmd_type, analysis.results_filename)\n",
    "    for analysis in list_of_analyses\n",
    "]"
   ]
  },
  {
   "cell_type": "markdown",
   "metadata": {},
   "source": [
    "#### First simulation results: operating point"
   ]
  },
  {
   "cell_type": "code",
   "execution_count": 9,
   "metadata": {},
   "outputs": [
    {
     "name": "stdout",
     "output_type": "stream",
     "text": [
      "0.0\n",
      "\n",
      "--- Operating Point Results ---\n",
      "in       0.0\n",
      "mid      0.0\n",
      "-------------------------------\n",
      "\n"
     ]
    }
   ],
   "source": [
    "# 1st simulation was operating point\n",
    "spi.print_section(\"Operating Point Results\", sim_results[0].print_table())\n"
   ]
  },
  {
   "cell_type": "markdown",
   "metadata": {},
   "source": [
    "#### Second simulation results: transient"
   ]
  },
  {
   "cell_type": "code",
   "execution_count": 10,
   "metadata": {},
   "outputs": [
    {
     "data": {
      "image/png": "[encoded data removed]",
      "text/plain": [
       "<Figure size 1600x800 with 1 Axes>"
      ]
     },
     "metadata": {},
     "output_type": "display_data"
    }
   ],
   "source": [
    "# x-axis and signals in list of numpys\n",
    "plot_data = sim_results[1].x_axis_and_sigs(VEC_INTEREST.list_out)\n",
    "\n",
    "# list of signals we want on plot\n",
    "y_names = VEC_INTEREST.list_out\n",
    "\n",
    "# Create plot with matplotlib\n",
    "plt_tr = spi.Plot(\"tr_plt\", plot_data, y_names, RESULTS_PATH)\n",
    "plt_tr.set_title(\"transient results\")\n",
    "plt_tr.define_axes((\"time\", \"sec\", \"linear\"), (\"voltage\", \"V\", \"linear\"))"
   ]
  }
 ],
 "metadata": {
  "kernelspec": {
   "display_name": "Python 3",
   "language": "python",
   "name": "python3"
  },
  "language_info": {
   "codemirror_mode": {
    "name": "ipython",
    "version": 3
   },
   "file_extension": ".py",
   "mimetype": "text/x-python",
   "name": "python",
   "nbconvert_exporter": "python",
   "pygments_lexer": "ipython3",
   "version": "3.12.1"
  }
 },
 "nbformat": 4,
 "nbformat_minor": 2
}
